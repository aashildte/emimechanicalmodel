{
 "cells": [
  {
   "cell_type": "markdown",
   "id": "a29686ff-944b-42f6-9805-b87cf571d0e1",
   "metadata": {},
   "source": [
    "# EMI mechanical model – part 2"
   ]
  },
  {
   "cell_type": "markdown",
   "id": "82e3d69c-ffdd-4610-bbcd-7968bedc902e",
   "metadata": {},
   "source": [
    "The EMI framework, as presented in the previous notebook, is in particular well-suited for differentiating between intracellular and extracellular subprocesses, and studying how changes in one subdomain affects the dynamics in the other subdomain, as well as the tissue block as a whole."
   ]
  },
  {
   "cell_type": "markdown",
   "id": "610bc68d-fe4c-437b-8a02-246b54c6b0c6",
   "metadata": {},
   "source": [
    "In this section, we'll try to connect this with some physiologically relevant quantities. We will, in particular, focus on _increased contractility_ and on _increased extracellular stiffness_. The first can be coupled to myofilament dynamics, which e.g. can be modeled using the Rice model. We'll start by simply using a scaling factor, and study the impact of decreased and increased contractility. For those interested, we'll also present a bonus task for getting these values from the Rice model. Next, we'll focus on changes in the stiffness of the extracellular subdomain. Increased stiffness of the extracellular subdomain is a known effect of instritial fibrosis, which makes it increasingly harder for the cells to contract."
   ]
  },
  {
   "cell_type": "markdown",
   "id": "0f543845",
   "metadata": {},
   "source": [
    "## Increased contractility"
   ]
  },
  {
   "cell_type": "markdown",
   "id": "229e24ab-7e8f-4c60-962e-b7fdfe8c05da",
   "metadata": {},
   "source": [
    "We'll need a similar setup as in the previous notebook; let's collect the imports and define an instance of the EMIModel here:"
   ]
  },
  {
   "cell_type": "code",
   "execution_count": 1,
   "id": "4bfd7d85-c32d-479b-90f8-4e91b93101f7",
   "metadata": {},
   "outputs": [
    {
     "name": "stderr",
     "output_type": "stream",
     "text": [
      "<frozen importlib._bootstrap>:219: RuntimeWarning: scipy._lib.messagestream.MessageStream size changed, may indicate binary incompatibility. Expected 56 from C header, got 64 from PyObject\n"
     ]
    }
   ],
   "source": [
    "import numpy as np\n",
    "import matplotlib.pyplot as plt\n",
    "\n",
    "import fenics as f\n",
    "import emimechanicalmodel as emi_m\n",
    "\n",
    "f.set_log_level(30)        # less verbatim output from the Newton solver compared to default"
   ]
  },
  {
   "cell_type": "code",
   "execution_count": 2,
   "id": "73df142a",
   "metadata": {},
   "outputs": [
    {
     "name": "stdout",
     "output_type": "stream",
     "text": [
      "Mesh and subdomains loaded successfully.\n",
      "Number of nodes: 335, number of elements: 1364\n",
      "length=102.0, width=20.0, height=24.0\n"
     ]
    }
   ],
   "source": [
    "mesh_file = \"tile_connected_10p0.h5\"\n",
    "mesh, volumes = emi_m.load_mesh(mesh_file)\n",
    "\n",
    "emimodel = emi_m.EMIModel(\n",
    "            mesh,\n",
    "            volumes,\n",
    "            experiment=\"contraction\",\n",
    "            material_model=\"guccione\",\n",
    "            active_model=\"active_stress\",\n",
    "            compressibility_model=\"nearly_incompressible\",\n",
    "        )"
   ]
  },
  {
   "cell_type": "markdown",
   "id": "02c06bea-f46b-42ef-be31-5fcf0ea3f1f9",
   "metadata": {},
   "source": [
    "Next let's read in the active tension transient:"
   ]
  },
  {
   "cell_type": "code",
   "execution_count": 9,
   "id": "794490b7-c30c-4d3f-b6c9-0f7bd5b5cfc4",
   "metadata": {},
   "outputs": [],
   "source": [
    "time = np.linspace(0, 500, 125)              # 500 ms with 125 steps\n",
    "active_force = np.load(\"active_precomputed.npy\")\n",
    "active_precomputed = active_force[0:500:4]   # same dimension as time"
   ]
  },
  {
   "cell_type": "markdown",
   "id": "a82118eb-656d-4cc8-86a8-b99da9bf401a",
   "metadata": {},
   "source": [
    "Like in the previous notebook, we will track intracellular fiber direction strain and stress values (but let's focus on these rather than extending this to the other directions):"
   ]
  },
  {
   "cell_type": "code",
   "execution_count": 10,
   "id": "ec7f05a1-a343-4d81-b400-38af327b3cbe",
   "metadata": {},
   "outputs": [
    {
     "ename": "RuntimeError",
     "evalue": "\n\n*** -------------------------------------------------------------------------\n*** DOLFIN encountered an error. If you are not able to resolve this issue\n*** using the information listed below, you can ask for help at\n***\n***     fenics-support@googlegroups.com\n***\n*** Remember to include the error message listed below and, if possible,\n*** include a *minimal* running example to reproduce the error.\n***\n*** -------------------------------------------------------------------------\n*** Error:   Unable to solve nonlinear system with NewtonSolver.\n*** Reason:  Newton solver did not converge because maximum number of iterations reached.\n*** Where:   This error was encountered inside NewtonSolver.cpp.\n*** Process: 0\n*** \n*** DOLFIN version: 2019.1.0\n*** Git changeset:  149cf7bbfffe157a560d262289a63cfe2d1e7244\n*** -------------------------------------------------------------------------\n",
     "output_type": "error",
     "traceback": [
      "\u001b[0;31m---------------------------------------------------------------------------\u001b[0m",
      "\u001b[0;31mRuntimeError\u001b[0m                              Traceback (most recent call last)",
      "Input \u001b[0;32mIn [10]\u001b[0m, in \u001b[0;36m<module>\u001b[0;34m\u001b[0m\n\u001b[1;32m      5\u001b[0m \u001b[38;5;28;01mfor\u001b[39;00m step, a_str \u001b[38;5;129;01min\u001b[39;00m \u001b[38;5;28menumerate\u001b[39m(active_precomputed):\n\u001b[1;32m      6\u001b[0m     emimodel\u001b[38;5;241m.\u001b[39mupdate_active_fn(a_str)\n\u001b[0;32m----> 7\u001b[0m     \u001b[43memimodel\u001b[49m\u001b[38;5;241;43m.\u001b[39;49m\u001b[43msolve\u001b[49m\u001b[43m(\u001b[49m\u001b[43m)\u001b[49m\n\u001b[1;32m      9\u001b[0m     fiber_dir_strain_i[step] \u001b[38;5;241m=\u001b[39m \\\n\u001b[1;32m     10\u001b[0m         emimodel\u001b[38;5;241m.\u001b[39mevaluate_subdomain_strain_fibre_dir(subdomain_id)\n\u001b[1;32m     11\u001b[0m     fiber_dir_stress_i[step] \u001b[38;5;241m=\u001b[39m \\\n\u001b[1;32m     12\u001b[0m         emimodel\u001b[38;5;241m.\u001b[39mevaluate_subdomain_stress_fibre_dir(subdomain_id)\n",
      "File \u001b[0;32m~/Documents/Projects/EMI/emimechanicalmodel/emimechanicalmodel/cardiac_model.py:433\u001b[0m, in \u001b[0;36mCardiacModel.solve\u001b[0;34m(self, project)\u001b[0m\n\u001b[1;32m    415\u001b[0m \u001b[38;5;124;03m\"\"\"\u001b[39;00m\n\u001b[1;32m    416\u001b[0m \n\u001b[1;32m    417\u001b[0m \u001b[38;5;124;03mThe main function to make anything happen; this will solve the\u001b[39;00m\n\u001b[0;32m   (...)\u001b[0m\n\u001b[1;32m    426\u001b[0m \n\u001b[1;32m    427\u001b[0m \u001b[38;5;124;03m\"\"\"\u001b[39;00m\n\u001b[1;32m    429\u001b[0m \u001b[38;5;66;03m# as per default we are using the manual implementation which\u001b[39;00m\n\u001b[1;32m    430\u001b[0m \u001b[38;5;66;03m# should be at least as fast; however, we will\u001b[39;00m\n\u001b[1;32m    431\u001b[0m \u001b[38;5;66;03m# just keep a simple version here for easy comparison:\u001b[39;00m\n\u001b[0;32m--> 433\u001b[0m \u001b[43mdf\u001b[49m\u001b[38;5;241;43m.\u001b[39;49m\u001b[43msolve\u001b[49m\u001b[43m(\u001b[49m\n\u001b[1;32m    434\u001b[0m \u001b[43m    \u001b[49m\u001b[38;5;28;43mself\u001b[39;49m\u001b[38;5;241;43m.\u001b[39;49m\u001b[43mweak_form\u001b[49m\u001b[43m \u001b[49m\u001b[38;5;241;43m==\u001b[39;49m\u001b[43m \u001b[49m\u001b[38;5;241;43m0\u001b[39;49m\u001b[43m,\u001b[49m\n\u001b[1;32m    435\u001b[0m \u001b[43m    \u001b[49m\u001b[38;5;28;43mself\u001b[39;49m\u001b[38;5;241;43m.\u001b[39;49m\u001b[43mstate\u001b[49m\u001b[43m,\u001b[49m\n\u001b[1;32m    436\u001b[0m \u001b[43m    \u001b[49m\u001b[38;5;28;43mself\u001b[39;49m\u001b[38;5;241;43m.\u001b[39;49m\u001b[43mbcs\u001b[49m\u001b[43m,\u001b[49m\n\u001b[1;32m    437\u001b[0m \u001b[43m    \u001b[49m\u001b[43msolver_parameters\u001b[49m\u001b[38;5;241;43m=\u001b[39;49m\u001b[43m{\u001b[49m\n\u001b[1;32m    438\u001b[0m \u001b[43m        \u001b[49m\u001b[38;5;124;43m\"\u001b[39;49m\u001b[38;5;124;43mnewton_solver\u001b[39;49m\u001b[38;5;124;43m\"\u001b[39;49m\u001b[43m:\u001b[49m\u001b[43m \u001b[49m\u001b[43m{\u001b[49m\n\u001b[1;32m    439\u001b[0m \u001b[43m            \u001b[49m\u001b[38;5;124;43m\"\u001b[39;49m\u001b[38;5;124;43mabsolute_tolerance\u001b[39;49m\u001b[38;5;124;43m\"\u001b[39;49m\u001b[43m:\u001b[49m\u001b[43m \u001b[49m\u001b[38;5;241;43m1e-5\u001b[39;49m\u001b[43m,\u001b[49m\n\u001b[1;32m    440\u001b[0m \u001b[43m            \u001b[49m\u001b[38;5;124;43m\"\u001b[39;49m\u001b[38;5;124;43mmaximum_iterations\u001b[39;49m\u001b[38;5;124;43m\"\u001b[39;49m\u001b[43m:\u001b[49m\u001b[43m \u001b[49m\u001b[38;5;241;43m10\u001b[39;49m\u001b[43m,\u001b[49m\n\u001b[1;32m    441\u001b[0m \u001b[43m        \u001b[49m\u001b[43m}\u001b[49m\n\u001b[1;32m    442\u001b[0m \u001b[43m    \u001b[49m\u001b[43m}\u001b[49m\u001b[43m,\u001b[49m\n\u001b[1;32m    443\u001b[0m \u001b[43m    \u001b[49m\u001b[43mform_compiler_parameters\u001b[49m\u001b[38;5;241;43m=\u001b[39;49m\u001b[43m{\u001b[49m\u001b[38;5;124;43m\"\u001b[39;49m\u001b[38;5;124;43moptimize\u001b[39;49m\u001b[38;5;124;43m\"\u001b[39;49m\u001b[43m:\u001b[49m\u001b[43m \u001b[49m\u001b[38;5;28;43;01mTrue\u001b[39;49;00m\u001b[43m}\u001b[49m\u001b[43m,\u001b[49m\n\u001b[1;32m    444\u001b[0m \u001b[43m\u001b[49m\u001b[43m)\u001b[49m\n\u001b[1;32m    445\u001b[0m \u001b[38;5;124;03m\"\"\"\u001b[39;00m\n\u001b[1;32m    446\u001b[0m \u001b[38;5;124;03mself._solver.solve(self.problem, self.state.vector())\u001b[39;00m\n\u001b[1;32m    447\u001b[0m \u001b[38;5;124;03m\"\"\"\u001b[39;00m\n\u001b[1;32m    448\u001b[0m \u001b[38;5;66;03m# save stress and strain to fenics functions\u001b[39;00m\n",
      "File \u001b[0;32m~/.conda/envs/fenicsproject/lib/python3.8/site-packages/dolfin/fem/solving.py:220\u001b[0m, in \u001b[0;36msolve\u001b[0;34m(*args, **kwargs)\u001b[0m\n\u001b[1;32m    217\u001b[0m \u001b[38;5;66;03m# Call variational problem solver if we get an equation (but not a\u001b[39;00m\n\u001b[1;32m    218\u001b[0m \u001b[38;5;66;03m# tolerance)\u001b[39;00m\n\u001b[1;32m    219\u001b[0m \u001b[38;5;28;01melif\u001b[39;00m \u001b[38;5;28misinstance\u001b[39m(args[\u001b[38;5;241m0\u001b[39m], ufl\u001b[38;5;241m.\u001b[39mclasses\u001b[38;5;241m.\u001b[39mEquation):\n\u001b[0;32m--> 220\u001b[0m     \u001b[43m_solve_varproblem\u001b[49m\u001b[43m(\u001b[49m\u001b[38;5;241;43m*\u001b[39;49m\u001b[43margs\u001b[49m\u001b[43m,\u001b[49m\u001b[43m \u001b[49m\u001b[38;5;241;43m*\u001b[39;49m\u001b[38;5;241;43m*\u001b[39;49m\u001b[43mkwargs\u001b[49m\u001b[43m)\u001b[49m\n\u001b[1;32m    222\u001b[0m \u001b[38;5;66;03m# Default case, just call the wrapped C++ solve function\u001b[39;00m\n\u001b[1;32m    223\u001b[0m \u001b[38;5;28;01melse\u001b[39;00m:\n\u001b[1;32m    224\u001b[0m     \u001b[38;5;28;01mif\u001b[39;00m kwargs:\n",
      "File \u001b[0;32m~/.conda/envs/fenicsproject/lib/python3.8/site-packages/dolfin/fem/solving.py:266\u001b[0m, in \u001b[0;36m_solve_varproblem\u001b[0;34m(*args, **kwargs)\u001b[0m\n\u001b[1;32m    264\u001b[0m solver \u001b[38;5;241m=\u001b[39m NonlinearVariationalSolver(problem)\n\u001b[1;32m    265\u001b[0m solver\u001b[38;5;241m.\u001b[39mparameters\u001b[38;5;241m.\u001b[39mupdate(solver_parameters)\n\u001b[0;32m--> 266\u001b[0m \u001b[43msolver\u001b[49m\u001b[38;5;241;43m.\u001b[39;49m\u001b[43msolve\u001b[49m\u001b[43m(\u001b[49m\u001b[43m)\u001b[49m\n",
      "\u001b[0;31mRuntimeError\u001b[0m: \n\n*** -------------------------------------------------------------------------\n*** DOLFIN encountered an error. If you are not able to resolve this issue\n*** using the information listed below, you can ask for help at\n***\n***     fenics-support@googlegroups.com\n***\n*** Remember to include the error message listed below and, if possible,\n*** include a *minimal* running example to reproduce the error.\n***\n*** -------------------------------------------------------------------------\n*** Error:   Unable to solve nonlinear system with NewtonSolver.\n*** Reason:  Newton solver did not converge because maximum number of iterations reached.\n*** Where:   This error was encountered inside NewtonSolver.cpp.\n*** Process: 0\n*** \n*** DOLFIN version: 2019.1.0\n*** Git changeset:  149cf7bbfffe157a560d262289a63cfe2d1e7244\n*** -------------------------------------------------------------------------\n"
     ]
    }
   ],
   "source": [
    "fiber_dir_strain_i = np.zeros_like(active_precomputed)\n",
    "fiber_dir_stress_i = np.zeros_like(active_precomputed) \n",
    "subdomain_id = 1         # intracellular subdomain\n",
    "\n",
    "for step, a_str in enumerate(active_precomputed):\n",
    "    emimodel.update_active_fn(a_str)\n",
    "    emimodel.solve()\n",
    "    \n",
    "    fiber_dir_strain_i[step] = \\\n",
    "        emimodel.evaluate_subdomain_strain_fibre_dir(subdomain_id)\n",
    "    fiber_dir_stress_i[step] = \\\n",
    "        emimodel.evaluate_subdomain_stress_fibre_dir(subdomain_id)\n"
   ]
  },
  {
   "cell_type": "markdown",
   "id": "51dc81a5-9fcc-4e49-bc69-4f95a6751df1",
   "metadata": {},
   "source": [
    "... which we of course can plot, like before:"
   ]
  },
  {
   "cell_type": "code",
   "execution_count": null,
   "id": "504de19b-38ef-4dbd-9ace-0c6044ba3477",
   "metadata": {},
   "outputs": [],
   "source": [
    "fig, axes = plt.subplots(1, 2, figsize=(15, 3))\n",
    "\n",
    "axes[0].plot(time, fiber_dir_strain_i)\n",
    "axes[1].plot(time, fiber_dir_stress_i)\n",
    "\n",
    "axes[0].set_xlabel(\"Time (ms)\")\n",
    "axes[1].set_xlabel(\"Time (ms)\")\n",
    "axes[0].set_ylabel(\"Strain (-)\")\n",
    "axes[1].set_ylabel(\"Stress (kPa)\")\n",
    "\n",
    "axes[0].set_title(r\"Fiber direction strain, over $\\Omega_i$\")\n",
    "axes[1].set_title(r\"Fiber direction stress, over $\\Omega_i$\")\n",
    "\n",
    "plt.show()"
   ]
  },
  {
   "cell_type": "markdown",
   "id": "f972f444-0d74-4248-bd77-b160ea3fb6cf",
   "metadata": {},
   "source": [
    "We can scale the contractility up and down by changing the magnitude, i.e., scale all of the active_precomputed values. The scaled transients may look like this:"
   ]
  },
  {
   "cell_type": "code",
   "execution_count": 11,
   "id": "3f399bfb",
   "metadata": {},
   "outputs": [
    {
     "data": {
      "image/png": "[encoded data removed]",
      "text/plain": [
       "<Figure size 432x288 with 1 Axes>"
      ]
     },
     "metadata": {
      "needs_background": "light"
     },
     "output_type": "display_data"
    }
   ],
   "source": [
    "scaling_factors = [0.8, 0.9, 1.0, 1.1, 1.2]\n",
    "\n",
    "for scaling_factor in scaling_factors:\n",
    "    scaled_values = scaling_factor*active_precomputed\n",
    "    plt.plot(time, scaled_values)\n",
    "    plt.xlabel(\"Time (ms)\")\n",
    "    plt.ylabel(\"Active force (kPa)\")\n",
    "plt.legend(scaling_factors)\n",
    "plt.title(\"Active contraction force for different scaling parameters\")\n",
    "plt.show()"
   ]
  },
  {
   "cell_type": "markdown",
   "id": "6f681cf9-4180-450d-bf08-7c030f39a333",
   "metadata": {},
   "source": [
    "### Exercise: Decreasing and increasing contractility\n",
    "\n",
    "Use the scaled active transient values to run the simulations. For each scaling factor, define an array <code>scaled_values</code> as above, and run the forward model with this as input. Keep track of $\\overline{\\sigma_{ff}}$ and $\\overline{E_{ff}}$ integrated over the intracellular subdomain. Plot the stress and strain curves together to see how increased contractilitiy changes the dynamics."
   ]
  },
  {
   "cell_type": "code",
   "execution_count": null,
   "id": "707fac41",
   "metadata": {},
   "outputs": [],
   "source": [
    "# write code here"
   ]
  },
  {
   "cell_type": "markdown",
   "id": "52154960-c3a8-4a97-bdd5-b5f156916ab8",
   "metadata": {},
   "source": [
    "### Bonus exercise: Decreasing and increasing the calcium amplitude"
   ]
  },
  {
   "cell_type": "markdown",
   "id": "b0e2714a-f70a-4056-9078-9806454cd0ea",
   "metadata": {},
   "source": [
    "The scaling factors above can be seen as a proxy of an increase in other factors. To be more specific, we can also run the Rice model and change the parameters there directly – then use this as an input to our model. For example, changing the calcium amplitude will also affect the force generated.\n",
    "\n",
    "1. Run the code below for calculating the force generated by the Rice model, using standard parameters.\n",
    "2. Next, change the calcium parameter and investigate how decreased and increased calcium amplitude affects the force.\n",
    "3. Finally, couple in the EMI model and give the force generated to run the contraction of the cell\n",
    "\n",
    "Note that we only run the model up to 500 ms, while in the myofilament notebook use up to 1000 ms. We could also do 1000 ms, but not much would change in the last part as that is the \"resting\" phase for the cells."
   ]
  },
  {
   "cell_type": "code",
   "execution_count": 10,
   "id": "166f51f3",
   "metadata": {},
   "outputs": [],
   "source": [
    "def run_forward_emi_simulation(emimodel, active_values):\n",
    "    fiber_dir_strain_i = np.zeros_like(active_values)\n",
    "    fiber_dir_stress_i = np.zeros_like(active_values) \n",
    "    subdomain_id = 1         # intracellular subdomain\n",
    "\n",
    "    for step, a_str in enumerate(active_values):\n",
    "        emimodel.update_active_fn(a_str)\n",
    "        emimodel.solve()\n",
    "    \n",
    "        fiber_dir_strain_i[step] = \\\n",
    "            emimodel.evaluate_subdomain_strain_fibre_dir(subdomain_id)\n",
    "        fiber_dir_stress_i[step] = \\\n",
    "            emimodel.evaluate_subdomain_stress_fibre_dir(subdomain_id)\n",
    "\n",
    "    return fiber_dir_strain_i, fiber_dir_stress_i\n"
   ]
  },
  {
   "cell_type": "code",
   "execution_count": null,
   "id": "2b7b580c",
   "metadata": {},
   "outputs": [],
   "source": [
    "import rice_model_2008 as rice\n",
    "from scipy.integrate import odeint\n",
    "\n",
    "# this is predefined if you have run all the code above, but for the\n",
    "# rice model part to work independently you can also comment this in:\n",
    "time = np.linspace(0,200,50)\n",
    "\n",
    "#scaling_factors = [1]\n",
    "scaling_factors = [0.8, 0.9, 1.0, 1.1, 1.2]\n",
    "\n",
    "scaling_factor_force = 2000\n",
    "\n",
    "for scaling_factor in scaling_factors:\n",
    "    p = rice.init_parameter_values(Ca_amplitude = scaling_factor*1.45)\n",
    "    force_ind = rice.monitor_indices(\"active\")\n",
    "\n",
    "    init = rice.init_state_values()\n",
    "    states = odeint(rice.rhs,init,time,(p,))\n",
    "\n",
    "    force = []\n",
    "    for tn, sn in zip(time,states):\n",
    "        m = rice.monitor(sn,tn,p)\n",
    "        force.append(scaling_factor_force*m[force_ind])\n",
    "\n",
    "    strain, stress = run_forward_emi_simulation(emimodel, force)\n",
    "    plt.plot(time, strain)\n",
    "    \n",
    "    emimodel.state.vector()[:] = 0\n",
    "    \n",
    "plt.show()"
   ]
  },
  {
   "cell_type": "markdown",
   "id": "2e71ca23-eb68-46e2-bd44-56c98626479d",
   "metadata": {},
   "source": [
    "## Increased matrix stiffness"
   ]
  },
  {
   "cell_type": "markdown",
   "id": "66ebc9f2-2260-4f97-863d-d49cfa9f54ac",
   "metadata": {},
   "source": [
    "A quick recap from the previous notebook: The relation between stress and strain in any given material is given by a strain energy function $\\Psi$. In our EMI model we have two strain energy functions, given by respectively\n",
    "\n",
    "$$ \\Psi_i = C_i (e^{Q_i} - 1) + \\kappa_i (J \\ln J - J + 1) \\quad \\qquad \\mathbf{x} \\in \\Omega_{i} $$\n",
    "\n",
    "and\n",
    "\n",
    "$$ \\Psi_e = C_e (e^{Q_e} - 1) + \\kappa_e (J \\ln J - J + 1) \\quad \\qquad \\mathbf{x} \\in \\Omega_{i} $$"
   ]
  },
  {
   "cell_type": "markdown",
   "id": "e8939fe3",
   "metadata": {},
   "source": [
    "where $C_i$ and $C_e$ are material parameters. There are also material parameters connected to the exponential terms - with material parameters $b_{i, f}$, $b_{i, t}$, $b_{i, ft}$, and $b_{e}$, in additional to the compressibility parameters $\\kappa_i$ and $\\kappa_e$.\n",
    "\n",
    "In general, all of these can be altered by giving them in as a dictionary:"
   ]
  },
  {
   "cell_type": "code",
   "execution_count": 12,
   "id": "9ad16f8d",
   "metadata": {},
   "outputs": [
    {
     "name": "stdout",
     "output_type": "stream",
     "text": [
      "length=102.0, width=20.0, height=24.0\n"
     ]
    }
   ],
   "source": [
    "material_parameters = {\n",
    "    \"C_i\" : 4,\n",
    "    \"C_e\" : 2,\n",
    "    \"b_if\" : 40,\n",
    "    \"b_it\" : 5,\n",
    "    \"b_ift\" : 5,\n",
    "    \"b_e\" : 10}\n",
    "\n",
    "emimodel = emi_m.EMIModel(\n",
    "            mesh,\n",
    "            volumes,\n",
    "            experiment=\"contraction\",\n",
    "            material_model=\"guccione\",\n",
    "            material_parameters=material_parameters,\n",
    "            active_model=\"active_stress\",\n",
    "            compressibility_model=\"nearly_incompressible\",\n",
    "        )"
   ]
  },
  {
   "cell_type": "markdown",
   "id": "165cb872",
   "metadata": {},
   "source": [
    "The extracellular stiffness can be altered using the \"C_i\" parameter, so for our purposes we can simplify this a little and just write:"
   ]
  },
  {
   "cell_type": "code",
   "execution_count": null,
   "id": "a5bc9978",
   "metadata": {},
   "outputs": [],
   "source": [
    "material_parameters = {\n",
    "    \"C_e\" : 4,\n",
    "    }\n",
    "\n",
    "emimodel = emi_m.EMIModel(\n",
    "            mesh,\n",
    "            volumes,\n",
    "            experiment=\"contraction\",\n",
    "            material_model=\"guccione\",\n",
    "            material_parameters=material_parameters,\n",
    "            active_model=\"active_stress\",\n",
    "            compressibility_model=\"nearly_incompressible\",\n",
    "        )"
   ]
  },
  {
   "cell_type": "markdown",
   "id": "dec912e5-3d97-409a-8183-468e2f98b507",
   "metadata": {},
   "source": [
    "Next, we follow the normal procedure and track fiber direction strain and stress values:"
   ]
  },
  {
   "cell_type": "code",
   "execution_count": 39,
   "id": "0268ab93",
   "metadata": {},
   "outputs": [
    {
     "name": "stdout",
     "output_type": "stream",
     "text": [
      "Calling FFC just-in-time (JIT) compiler, this may take some time.\n",
      "Calling FFC just-in-time (JIT) compiler, this may take some time.\n",
      "Calling FFC just-in-time (JIT) compiler, this may take some time.\n",
      "Calling FFC just-in-time (JIT) compiler, this may take some time.\n",
      "Calling FFC just-in-time (JIT) compiler, this may take some time.\n"
     ]
    }
   ],
   "source": [
    "fiber_dir_strain_i = np.zeros_like(active_precomputed)\n",
    "fiber_dir_stress_i = np.zeros_like(active_precomputed) \n",
    "subdomain_id = 1         # intracellular subdomain\n",
    "\n",
    "for step, a_str in enumerate(active_precomputed):\n",
    "    emimodel.update_active_fn(a_str)\n",
    "    emimodel.solve()\n",
    "    \n",
    "    fiber_dir_strain_i[step] = \\\n",
    "        emimodel.evaluate_subdomain_strain_fibre_dir(subdomain_id)\n",
    "    fiber_dir_stress_i[step] = \\\n",
    "        emimodel.evaluate_subdomain_stress_fibre_dir(subdomain_id)\n"
   ]
  },
  {
   "cell_type": "code",
   "execution_count": 42,
   "id": "fca29670",
   "metadata": {},
   "outputs": [
    {
     "data": {
      "image/png": "[encoded data removed]",
      "text/plain": [
       "<Figure size 1080x216 with 2 Axes>"
      ]
     },
     "metadata": {
      "needs_background": "light"
     },
     "output_type": "display_data"
    }
   ],
   "source": [
    "fig, axes = plt.subplots(1, 2, figsize=(15, 3))\n",
    "\n",
    "axes[0].plot(time, fiber_dir_strain_i)\n",
    "axes[1].plot(time, fiber_dir_stress_i)\n",
    "\n",
    "axes[0].set_xlabel(\"Time (ms)\")\n",
    "axes[1].set_xlabel(\"Time (ms)\")\n",
    "axes[0].set_ylabel(\"Strain (-)\")\n",
    "axes[1].set_ylabel(\"Stress (kPa)\")\n",
    "\n",
    "axes[0].set_title(r\"Fiber direction strain, over $\\Omega_i$\")\n",
    "axes[1].set_title(r\"Fiber direction stress, over $\\Omega_i$\")\n",
    "\n",
    "plt.show()"
   ]
  },
  {
   "cell_type": "markdown",
   "id": "44fec82b-90a2-4509-822c-f07b23d8c4cf",
   "metadata": {},
   "source": [
    "### Exercise: Scale the ECM stiffness\n",
    "\n",
    "1. Change the $C_e$ parameter by scaling it up and down (use the same range; $[0.8, 0.9, 1.0, 1.1, 1.2]$), and run a forward simulation for each scaled parameter. Note that you here should have an opposite effect; lower stiffness values will make it easier for the cell to contract with the same contraction force.\n",
    "\n",
    "2. Plot the resulting stress and strain values together. Compare to the plot for increased contractility. Can you describe the differences?"
   ]
  },
  {
   "cell_type": "code",
   "execution_count": 43,
   "id": "e279a716",
   "metadata": {},
   "outputs": [],
   "source": [
    "# write code here"
   ]
  },
  {
   "cell_type": "code",
   "execution_count": 26,
   "id": "38df3531",
   "metadata": {},
   "outputs": [
    {
     "data": {
      "image/png": "[encoded data removed]",
      "text/plain": [
       "<Figure size 1080x432 with 4 Axes>"
      ]
     },
     "metadata": {
      "needs_background": "light"
     },
     "output_type": "display_data"
    },
    {
     "data": {
      "application/vnd.jupyter.widget-view+json": {
       "model_id": "b0fd7057496e49a5b09b79eb54aa167e",
       "version_major": 2,
       "version_minor": 0
      },
      "text/plain": [
       "interactive(children=(FloatSlider(value=1.0, description='ca_scale', max=1.22, min=0.8, step=0.04), FloatSlide…"
      ]
     },
     "metadata": {},
     "output_type": "display_data"
    }
   ],
   "source": []
  },
  {
   "cell_type": "code",
   "execution_count": null,
   "id": "11a5aa30",
   "metadata": {},
   "outputs": [],
   "source": []
  }
 ],
 "metadata": {
  "kernelspec": {
   "display_name": "Python 3 (ipykernel)",
   "language": "python",
   "name": "python3"
  },
  "language_info": {
   "codemirror_mode": {
    "name": "ipython",
    "version": 3
   },
   "file_extension": ".py",
   "mimetype": "text/x-python",
   "name": "python",
   "nbconvert_exporter": "python",
   "pygments_lexer": "ipython3",
   "version": "3.8.12"
  }
 },
 "nbformat": 4,
 "nbformat_minor": 5
}
