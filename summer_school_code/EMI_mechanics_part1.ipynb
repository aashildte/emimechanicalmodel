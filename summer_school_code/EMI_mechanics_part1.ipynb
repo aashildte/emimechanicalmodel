{
 "cells": [
  {
   "cell_type": "markdown",
   "id": "a29686ff-944b-42f6-9805-b87cf571d0e1",
   "metadata": {},
   "source": [
    "# EMI mechanical model – part 1"
   ]
  },
  {
   "cell_type": "markdown",
   "id": "82e3d69c-ffdd-4610-bbcd-7968bedc902e",
   "metadata": {},
   "source": [
    "The EMI framework, in which we explicitly represent the extra- and intracellular subdomains geometrically, can also be used for mechanical modeling of the cells. The equations are somewhat different, but the core idea remains the same – that what happens inside the cells is fundamentally different from what happens outside of the cells. By averaging these out, we are missing out on interactions taking place on a microscale level."
   ]
  },
  {
   "cell_type": "markdown",
   "id": "610bc68d-fe4c-437b-8a02-246b54c6b0c6",
   "metadata": {},
   "source": [
    "The EMI model is, unlike myofilament level models, but like tissue-level models, a continuum-based model. That means that the variables have spatial distributions, where we look for solutions in a three-dimensional space, modeled by partial differential equations (PDEs). PDEs are, in their nature, more computationally expensive than ODEs, as there are so many more unknowns to solve for. The reward, is, however, that we can investigate the impact of different geometries and spatial variations."
   ]
  },
  {
   "cell_type": "markdown",
   "id": "229e24ab-7e8f-4c60-962e-b7fdfe8c05da",
   "metadata": {},
   "source": [
    "We will use the code from the repository [emimechanicalmodel](https://github.com/aashildte/emimechanicalmodel/), which is based on FEniCS. We can import all libraries we need as follows:"
   ]
  },
  {
   "cell_type": "code",
   "execution_count": 1,
   "id": "4bfd7d85-c32d-479b-90f8-4e91b93101f7",
   "metadata": {},
   "outputs": [
    {
     "name": "stderr",
     "output_type": "stream",
     "text": [
      "<frozen importlib._bootstrap>:219: RuntimeWarning: scipy._lib.messagestream.MessageStream size changed, may indicate binary incompatibility. Expected 56 from C header, got 64 from PyObject\n"
     ]
    }
   ],
   "source": [
    "import numpy as np\n",
    "import matplotlib.pyplot as plt\n",
    "\n",
    "import fenics as f\n",
    "import emimechanicalmodel as emi_m\n",
    "\n",
    "f.set_log_level(30)        # less verbatim output from the Newton solver compared to default"
   ]
  },
  {
   "cell_type": "markdown",
   "id": "bb68ae3e-e107-4f44-9d5a-3adfe57a4908",
   "metadata": {},
   "source": [
    "You don't really need to know much FEniCS in advance to run the code - we will guide you through what you need to know."
   ]
  },
  {
   "cell_type": "markdown",
   "id": "0b694d1d-c8f7-4b00-9db6-0b271fa36356",
   "metadata": {},
   "source": [
    "## Geometries and meshes"
   ]
  },
  {
   "cell_type": "markdown",
   "id": "02c06bea-f46b-42ef-be31-5fcf0ea3f1f9",
   "metadata": {},
   "source": [
    "We can start by reading in the mesh and subdomain information:"
   ]
  },
  {
   "cell_type": "code",
   "execution_count": 3,
   "id": "794490b7-c30c-4d3f-b6c9-0f7bd5b5cfc4",
   "metadata": {},
   "outputs": [
    {
     "name": "stdout",
     "output_type": "stream",
     "text": [
      "Mesh and subdomains loaded successfully.\n",
      "Number of nodes: 335, number of elements: 1364\n"
     ]
    }
   ],
   "source": [
    "mesh_file = \"tile_connected_10p0.h5\"\n",
    "mesh, volumes = emi_m.load_mesh(mesh_file)"
   ]
  },
  {
   "cell_type": "markdown",
   "id": "a82118eb-656d-4cc8-86a8-b99da9bf401a",
   "metadata": {},
   "source": [
    "Here, the mesh object gives us a tetrahedral representation of our geometry (all nodes and edges) and volumes is a so-called MeshFunction which tells us which elements (tetrahedra) belongs to the intracellular space, and which elements belongs to the extracellular space. We can actually print the meshfunction's \"array\" representation to see the data:"
   ]
  },
  {
   "cell_type": "code",
   "execution_count": 4,
   "id": "ec7f05a1-a343-4d81-b400-38af327b3cbe",
   "metadata": {},
   "outputs": [
    {
     "name": "stdout",
     "output_type": "stream",
     "text": [
      "Subdomain data length:  1364\n",
      "Subdomain data:  [1 1 1 ... 0 0 0]\n"
     ]
    }
   ],
   "source": [
    "print(\"Subdomain data length: \", len(volumes.array()[:]))\n",
    "print(\"Subdomain data: \", volumes.array()[:])"
   ]
  },
  {
   "cell_type": "markdown",
   "id": "8ae061cb-b4ce-4a26-9e91-50e35c8bf30a",
   "metadata": {},
   "source": [
    "Here, all the ones represent the cell (the intracellular subdomain) and all the zeros the matrix (the extracellular subdomain)."
   ]
  },
  {
   "cell_type": "markdown",
   "id": "51dc81a5-9fcc-4e49-bc69-4f95a6751df1",
   "metadata": {},
   "source": [
    "We can save the volumes object to a pvd file:"
   ]
  },
  {
   "cell_type": "code",
   "execution_count": 5,
   "id": "504de19b-38ef-4dbd-9ace-0c6044ba3477",
   "metadata": {},
   "outputs": [],
   "source": [
    "f.File(\"subdomains.pvd\") << volumes"
   ]
  },
  {
   "cell_type": "markdown",
   "id": "5b79dba1-e5a7-4ea2-9f09-45f1bbda29c3",
   "metadata": {},
   "source": [
    "In the code you are running the notebook from, you should now have a file called \"subdomains.pvd\", as well as a file called \"subdomains000000.vtu\", which belong together. You can open either of these in Paraview, and inspect the output. Through Paraview we can visualize the subdomains and the mesh representation, which for our sample mesh can look like this:"
   ]
  },
  {
   "cell_type": "markdown",
   "id": "f972f444-0d74-4248-bd77-b160ea3fb6cf",
   "metadata": {},
   "source": [
    "![title](figures/subdomains_meshes_tile_connected_10p0.png)"
   ]
  },
  {
   "cell_type": "markdown",
   "id": "6f681cf9-4180-450d-bf08-7c030f39a333",
   "metadata": {},
   "source": [
    "We will denote the intracellular subdomain, i.e., the cell, by $\\Omega_i$, and the extracellular subdomain, i.e., the matrix, by $\\Omega_e$."
   ]
  },
  {
   "cell_type": "markdown",
   "id": "52154960-c3a8-4a97-bdd5-b5f156916ab8",
   "metadata": {},
   "source": [
    "## Fundamental equations"
   ]
  },
  {
   "cell_type": "markdown",
   "id": "b0e2714a-f70a-4056-9078-9806454cd0ea",
   "metadata": {},
   "source": [
    "When we solve the mechanical problem, we want to find a displacement field $\\mathbf{u}$ which gives us an _equilibrium of stresses_. We are, essentially, solving for a three-dimensional version of Newton's third law, expressed by Piola-Kirchhoff stress tensor $\\mathbf{P}$:"
   ]
  },
  {
   "cell_type": "markdown",
   "id": "0cfe9b02-41d5-4dca-baf6-fa1363ea13f1",
   "metadata": {},
   "source": [
    "$$\\nabla \\cdot \\mathbf{P} = 0$$"
   ]
  },
  {
   "cell_type": "markdown",
   "id": "2e71ca23-eb68-46e2-bd44-56c98626479d",
   "metadata": {},
   "source": [
    "We allow for free contraction on all sides, such that all forces we deal with are generated by the cell itself. In addition, we need to account for stiffness of each subdomain. The stiffer either is, the harder it will be for the cell to contract. We won't go into details of the derivation, but in short, we can express $P$ as following:"
   ]
  },
  {
   "cell_type": "markdown",
   "id": "66ebc9f2-2260-4f97-863d-d49cfa9f54ac",
   "metadata": {},
   "source": [
    "$$ P = \\frac{\\partial \\Psi_{passive} (F)}{\\partial F} + \\frac{\\partial \\Psi_{active} (F)}{\\partial F}$$"
   ]
  },
  {
   "cell_type": "markdown",
   "id": "e2876318-3408-4835-9fa4-42079126d242",
   "metadata": {},
   "source": [
    "Here we are using an _active stress_ approach, in which active contraction is added in an additive manner. The other option is an _active strain_ approach. Both are reasonable choices, but the active stress approach might be easier to connect to physiological relevant quantities. "
   ]
  },
  {
   "cell_type": "markdown",
   "id": "1a921d77-7467-4f46-b2fc-f89cedffe03b",
   "metadata": {},
   "source": [
    "## Passive contribution\n",
    "\n",
    "The core of the EMI model is that both $\\psi_{passive}$ and $\\psi_{active}$ are defined differently for each subdomain. Starting with $\\psi_{passive}$, we can separate it into two separate contributions:"
   ]
  },
  {
   "cell_type": "markdown",
   "id": "0132701a-56d8-42b4-a75e-175dc882abc6",
   "metadata": {},
   "source": [
    "$$ \\Psi_{passive} (F) = \\begin{cases} \\Psi_{i} (F) \\qquad x \\in \\Omega_i \\\\ \\Psi_{e} (F) \\qquad x \\in \\Omega_e \\end{cases} $$"
   ]
  },
  {
   "cell_type": "markdown",
   "id": "dec912e5-3d97-409a-8183-468e2f98b507",
   "metadata": {},
   "source": [
    "This is, as you might notice, _not_ defined at the membrane itself, i.e., the surface separating the two subdomains. That is, however, not so important; you might think of it as that we assume, for simplicity, that the membrane has zero stiffness (which is not exactly right, but it works for our purposes)."
   ]
  },
  {
   "cell_type": "markdown",
   "id": "2c4a17ba-a61c-408a-94f7-fa0fa1cef427",
   "metadata": {},
   "source": [
    "We assume that the intracellular subdomain can be modeled as a _transversely isotropic_ material, which means that the cells are somewhat stiffer in the longitudinal direction than in the other directions. We can express this by components of the Cauchy-Green strain tensor $\\mathbf{E}$, which often is called a Guccione (or a Fung) kind of model:"
   ]
  },
  {
   "cell_type": "markdown",
   "id": "81d48b30-8519-446d-aae2-692eb8d70304",
   "metadata": {},
   "source": [
    "$$ \\Psi_i = C_i (e^{Q_i} - 1) + \\kappa_i (J \\ln J - J + 1) \\quad \\qquad \\mathbf{x} \\in \\Omega_{i} $$"
   ]
  },
  {
   "cell_type": "markdown",
   "id": "44fec82b-90a2-4509-822c-f07b23d8c4cf",
   "metadata": {},
   "source": [
    "The parameter $C_i$ has unit kPa, and adjusting will adjust the stiffness of the cell. Furthermore, the term $Q_i$ determines the exponential behavior of increasing amounts of strain:"
   ]
  },
  {
   "cell_type": "markdown",
   "id": "5f7797c2-be31-459a-9cef-83583a10d67a",
   "metadata": {},
   "source": [
    "$$ Q_i = b_{f, i} E_{11}^{2} + b_{t, i}(E_{22}^{2} + E_{33}^{2} + E_{23}^{2} + E_{32}^{2}) + b_{ft, i}(E_{12}^{2} + E_{21}^{2} + E_{13}^{2} + E_{31}^{2}) $$"
   ]
  },
  {
   "cell_type": "markdown",
   "id": "6da6d79b-b980-47fa-9924-c6ea62b6b68f",
   "metadata": {},
   "source": [
    "Here we have chosen $b_{f, i} = 8$, $b_{t, i} = 2$, $b_{ft, i} = 4$. These parameters determine the ratio between the fiber direction ($b_{f, i}$), the transverse direction ($b_{t, i}$) and the transverse direction ($b_{ft, i}$). If they are all equal, the material can be called _isotropic_."
   ]
  },
  {
   "cell_type": "markdown",
   "id": "0f7ea7fe-8a22-4c3c-9add-1487f08287d7",
   "metadata": {},
   "source": [
    "The term $\\kappa_i (J \\ln J - J + 1)$ helps us model the material as nearly incompressible; we could spend another seciton on defining this and variants (feel free to ask the lecturer), but for simplicity, for now, we are just going to accept that it is a part of the strain energy function."
   ]
  },
  {
   "cell_type": "markdown",
   "id": "a40883ed-4809-4a19-9eba-cec70c1ed256",
   "metadata": {},
   "source": [
    "Next, for the extracellular space, we will use"
   ]
  },
  {
   "cell_type": "markdown",
   "id": "e0fbffe4-8e98-4664-95e9-fb4e9bcabb42",
   "metadata": {},
   "source": [
    "$$ \\Psi_e = C_e (e^{Q_e} - 1) + \\kappa_e (J \\ln J - J + 1) \\quad \\qquad \\mathbf{x} \\in \\Omega_{i} $$"
   ]
  },
  {
   "cell_type": "markdown",
   "id": "0d77606a-e368-487a-b901-845094421c34",
   "metadata": {},
   "source": [
    "where"
   ]
  },
  {
   "cell_type": "markdown",
   "id": "d13c1029-2f0e-4e70-afe4-52ae0dcd99d4",
   "metadata": {},
   "source": [
    "$$ Q_e = b_e (E_{11}^{2} + E_{22}^{2} + E_{33}^{2} + E_{23}^{2} + E_{32}^{2}) + E_{12}^{2} + E_{21}^{2} + E_{13}^{2} + E_{31}^{2}) $$"
   ]
  },
  {
   "cell_type": "markdown",
   "id": "33c3c42f-8170-4cc8-b56f-3d15c7dea06f",
   "metadata": {},
   "source": [
    "Mathematically, this term is equal to $Q_i$ but with all parameters equal to $b_e$. Physiologically, this implies that the material is isotropic with material properties determined by $C_e$ and $b_e$, as well as the incompressibility paramter $\\kappa_e$."
   ]
  },
  {
   "cell_type": "markdown",
   "id": "01570ee1-031e-414f-843a-94b17c4e7b08",
   "metadata": {},
   "source": [
    "# Active contribution\n",
    "\n",
    "The separation of active contribution in the different subdomains is, in comparison to the passive part, pretty straight forward: We assume that the cells contract – with a non-zero contribution – and that the matrix does not contract. Mathematically we can say that the active tension is zero in the extracellular subdomain:\n",
    "\n",
    "$$\n",
    "\\Psi_{active} = \\begin{cases} \\frac{T_{active}(t)}{2} || F f ||^2 \\qquad \\qquad \\ x \\in \\Omega_i \\\\ 0 \\qquad \\quad \\qquad \\qquad \\qquad x \\in \\Omega_e \\end{cases}\n",
    "$$"
   ]
  },
  {
   "cell_type": "markdown",
   "id": "3b438f33-8594-4904-89b1-1b274e7bf32a",
   "metadata": {},
   "source": [
    "We will use the force calculated from the Rice model to calculate $T_{active} (t)$. Note that this is _weakly_ coupled; we are not giving the local strain (which can be translated to the change in the sarcomere length) back to the Rice model. Physiologically this would have made most sense, but this is a non-trivial task – that no-one so far has been able to do for the EMI model!"
   ]
  },
  {
   "cell_type": "markdown",
   "id": "01095dc1-4e9e-4dc5-be64-413d969bf3cc",
   "metadata": {},
   "source": [
    "We have, for convenience, precalculated the force transient which we will read in for now. Later on, we'll play with some of the parameters to get different active tension transients based on changes in calcium and myofilament dynamics. We can read in, and plot, the pre-calculated values as follows:"
   ]
  },
  {
   "cell_type": "code",
   "execution_count": 34,
   "id": "42d6a928-f06c-4e48-919c-4e39d03785eb",
   "metadata": {},
   "outputs": [
    {
     "data": {
      "image/png": "[encoded data removed]",
      "text/plain": [
       "<Figure size 432x288 with 1 Axes>"
      ]
     },
     "metadata": {
      "needs_background": "light"
     },
     "output_type": "display_data"
    }
   ],
   "source": [
    "time = np.linspace(0, 500, 125)       # 500 ms with 125 steps\n",
    "\n",
    "active_force, _ = emi_m.compute_active_component(time)\n",
    "\n",
    "plt.plot(time, active_force)\n",
    "plt.xlabel(\"Time (ms)\")\n",
    "plt.ylabel(\"Active force (kPa); unscaled\")\n",
    "plt.show()"
   ]
  },
  {
   "cell_type": "markdown",
   "id": "f2032311-a1df-45c7-9bb0-fc6a2e78107e",
   "metadata": {},
   "source": [
    "This is meant to resemble half of a single beat (up t0 500 ms, out of 1000). This is, in fact, a normalized quantity. To get a realistic contraction (approximately 20 % contraction) we'll simply scale it up:"
   ]
  },
  {
   "cell_type": "code",
   "execution_count": 35,
   "id": "8914fe64",
   "metadata": {},
   "outputs": [],
   "source": [
    "scaling_factor = 80\n",
    "active_precomputed = scaling_factor*active_force"
   ]
  },
  {
   "cell_type": "markdown",
   "id": "0ab0f5e6-6e72-4c4a-a749-aeefc50a9eb0",
   "metadata": {},
   "source": [
    "## Running the EMI model"
   ]
  },
  {
   "cell_type": "markdown",
   "id": "242dd046-caee-4751-98e8-542ed26a6e41",
   "metadata": {},
   "source": [
    "With the theory explained, let's move on to the actual coding! From the emimechanicalmodel library, we can make an instance of the EMI model which is based on all the equations above - predefined for us. You hence won't need to worry about getting any of the equations right; your main task will be to adjust the different parameters.\n",
    "\n",
    "We can create one instance like this:"
   ]
  },
  {
   "cell_type": "code",
   "execution_count": 43,
   "id": "87c1975c-bc47-4788-9bc5-72fa2f27c9e1",
   "metadata": {},
   "outputs": [
    {
     "name": "stdout",
     "output_type": "stream",
     "text": [
      "length=102.0, width=20.0, height=24.0\n"
     ]
    }
   ],
   "source": [
    "emimodel = emi_m.EMIModel(\n",
    "            mesh,\n",
    "            volumes,\n",
    "            experiment=\"contraction\",\n",
    "            material_model=\"guccione\",\n",
    "            active_model=\"active_stress\",\n",
    "            compressibility_model=\"nearly_incompressible\",\n",
    "        )"
   ]
  },
  {
   "cell_type": "markdown",
   "id": "b432b416-a985-406e-bc84-00af29cee6a8",
   "metadata": {},
   "source": [
    "The 'mesh' and 'volumes' parameters are given as explained above, and always needs to be provided. For the remaning parameters, we won't really change any, but just to give you an idea of what the options are:\n",
    "- experiment: Other options are stretch and shear modes on the form \"stretch_ff\" or \"shear_fs\" (etc.; please see [Paper/thesis] for an overview). These are passive deformation modes which are important for determining the material parameters (the stiffness in different directions).\n",
    "- material_model can be \"guccione\" or \"holzapfel\"\n",
    "- active_model can be \"active_stress\" or \"active_strain\"\n",
    "- compressibility_model can be \"nearly_incompressible\" or \"incompressible\"\n",
    "\n",
    "For the three latter, the \"guccione\" / \"active_stress\" / \"nearly_incompressible\" combination is used in [Paper 1], and the \"holzapfel\" / \"active strain\" / \"incompressible\" combination in [Paper 2]. There are numerical reasons for why the latter is more stable; but for most purposes the different combinations are interchangable.\n"
   ]
  },
  {
   "cell_type": "markdown",
   "id": "8de4baf0-7a9d-48f1-87a0-3fc955b0b978",
   "metadata": {},
   "source": [
    "### Contraction\n"
   ]
  },
  {
   "cell_type": "markdown",
   "id": "22eec909-c427-4eb4-85e2-7e5ede6f2ab8",
   "metadata": {},
   "source": [
    "Let's use the active values from above. We can update the active contraction in a for loop, like this, and solve the system in every iteration.\n",
    "\n",
    "We will track two variables over contraction: The average intracellular strain in the fiber direction, and the intracellular stress in the fiber direction. Mathematically, we are tracking the values\n",
    "\n",
    "\\begin{equation}\n",
    "\\overline{E_{ff}} = \\frac{\\int_{\\Omega_i} \\mathbf{f} \\cdot (\\mathbf{E} \\mathbf{f}) \\mathrm{d}\\mathbf{X}}{\\int_{\\Omega i} \\mathrm{d}\\mathbf{X}}\n",
    "\\qquad\n",
    "\\text{and}\n",
    "\\qquad\n",
    "    \\overline{\\sigma_{ff}} = \\frac{\\int_{\\Omega_i} \\mathbf{f} \\cdot (\\mathbf{\\sigma} \\mathbf{f}) \\mathrm{d}\\mathbf{X}}{\\int_{\\Omega i} \\mathrm{d}\\mathbf{X}}\n",
    "    \\label{eq:cm_stress}\n",
    "\\end{equation}\n",
    "\n",
    "and while it would certainly be possible to perform these integrals \"manually\" by writing out the Fenics code for each, this is already implemented so we will simply do this using in-built functions."
   ]
  },
  {
   "cell_type": "code",
   "execution_count": 42,
   "id": "b4a24f3b-9a0d-4014-af0b-94dbdd1a05f2",
   "metadata": {},
   "outputs": [
    {
     "ename": "RuntimeError",
     "evalue": "\n\n*** -------------------------------------------------------------------------\n*** DOLFIN encountered an error. If you are not able to resolve this issue\n*** using the information listed below, you can ask for help at\n***\n***     fenics-support@googlegroups.com\n***\n*** Remember to include the error message listed below and, if possible,\n*** include a *minimal* running example to reproduce the error.\n***\n*** -------------------------------------------------------------------------\n*** Error:   Unable to solve nonlinear system with NewtonSolver.\n*** Reason:  Newton solver did not converge because maximum number of iterations reached.\n*** Where:   This error was encountered inside NewtonSolver.cpp.\n*** Process: 0\n*** \n*** DOLFIN version: 2019.1.0\n*** Git changeset:  149cf7bbfffe157a560d262289a63cfe2d1e7244\n*** -------------------------------------------------------------------------\n",
     "output_type": "error",
     "traceback": [
      "\u001b[0;31m---------------------------------------------------------------------------\u001b[0m",
      "\u001b[0;31mRuntimeError\u001b[0m                              Traceback (most recent call last)",
      "Input \u001b[0;32mIn [42]\u001b[0m, in \u001b[0;36m<module>\u001b[0;34m\u001b[0m\n\u001b[1;32m      7\u001b[0m \u001b[38;5;28;01mfor\u001b[39;00m step, a_str \u001b[38;5;129;01min\u001b[39;00m \u001b[38;5;28menumerate\u001b[39m(active_precomputed):\n\u001b[1;32m      8\u001b[0m     emimodel\u001b[38;5;241m.\u001b[39mupdate_active_fn(a_str)\n\u001b[0;32m----> 9\u001b[0m     \u001b[43memimodel\u001b[49m\u001b[38;5;241;43m.\u001b[39;49m\u001b[43msolve\u001b[49m\u001b[43m(\u001b[49m\u001b[43m)\u001b[49m\n\u001b[1;32m     11\u001b[0m     \u001b[38;5;28mprint\u001b[39m(\u001b[38;5;124mf\u001b[39m\u001b[38;5;124m\"\u001b[39m\u001b[38;5;124mRunning the simulation for step \u001b[39m\u001b[38;5;132;01m{\u001b[39;00mstep\u001b[38;5;241m+\u001b[39m\u001b[38;5;241m1\u001b[39m\u001b[38;5;132;01m}\u001b[39;00m\u001b[38;5;124m / \u001b[39m\u001b[38;5;132;01m{\u001b[39;00m\u001b[38;5;28mlen\u001b[39m(active_precomputed)\u001b[38;5;132;01m}\u001b[39;00m\u001b[38;5;124m.\u001b[39m\u001b[38;5;124m\"\u001b[39m)\n\u001b[1;32m     13\u001b[0m     fiber_dir_strain_i[step] \u001b[38;5;241m=\u001b[39m \\\n\u001b[1;32m     14\u001b[0m         emimodel\u001b[38;5;241m.\u001b[39mevaluate_subdomain_strain_fibre_dir(subdomain_id)\n",
      "File \u001b[0;32m~/Documents/Projects/EMI/emimechanicalmodel/emimechanicalmodel/cardiac_model.py:433\u001b[0m, in \u001b[0;36mCardiacModel.solve\u001b[0;34m(self, project)\u001b[0m\n\u001b[1;32m    415\u001b[0m \u001b[38;5;124;03m\"\"\"\u001b[39;00m\n\u001b[1;32m    416\u001b[0m \n\u001b[1;32m    417\u001b[0m \u001b[38;5;124;03mThe main function to make anything happen; this will solve the\u001b[39;00m\n\u001b[0;32m   (...)\u001b[0m\n\u001b[1;32m    426\u001b[0m \n\u001b[1;32m    427\u001b[0m \u001b[38;5;124;03m\"\"\"\u001b[39;00m\n\u001b[1;32m    429\u001b[0m \u001b[38;5;66;03m# as per default we are using the manual implementation which\u001b[39;00m\n\u001b[1;32m    430\u001b[0m \u001b[38;5;66;03m# should be at least as fast; however, we will\u001b[39;00m\n\u001b[1;32m    431\u001b[0m \u001b[38;5;66;03m# just keep a simple version here for easy comparison:\u001b[39;00m\n\u001b[0;32m--> 433\u001b[0m \u001b[43mdf\u001b[49m\u001b[38;5;241;43m.\u001b[39;49m\u001b[43msolve\u001b[49m\u001b[43m(\u001b[49m\n\u001b[1;32m    434\u001b[0m \u001b[43m    \u001b[49m\u001b[38;5;28;43mself\u001b[39;49m\u001b[38;5;241;43m.\u001b[39;49m\u001b[43mweak_form\u001b[49m\u001b[43m \u001b[49m\u001b[38;5;241;43m==\u001b[39;49m\u001b[43m \u001b[49m\u001b[38;5;241;43m0\u001b[39;49m\u001b[43m,\u001b[49m\n\u001b[1;32m    435\u001b[0m \u001b[43m    \u001b[49m\u001b[38;5;28;43mself\u001b[39;49m\u001b[38;5;241;43m.\u001b[39;49m\u001b[43mstate\u001b[49m\u001b[43m,\u001b[49m\n\u001b[1;32m    436\u001b[0m \u001b[43m    \u001b[49m\u001b[38;5;28;43mself\u001b[39;49m\u001b[38;5;241;43m.\u001b[39;49m\u001b[43mbcs\u001b[49m\u001b[43m,\u001b[49m\n\u001b[1;32m    437\u001b[0m \u001b[43m    \u001b[49m\u001b[43msolver_parameters\u001b[49m\u001b[38;5;241;43m=\u001b[39;49m\u001b[43m{\u001b[49m\n\u001b[1;32m    438\u001b[0m \u001b[43m        \u001b[49m\u001b[38;5;124;43m\"\u001b[39;49m\u001b[38;5;124;43mnewton_solver\u001b[39;49m\u001b[38;5;124;43m\"\u001b[39;49m\u001b[43m:\u001b[49m\u001b[43m \u001b[49m\u001b[43m{\u001b[49m\n\u001b[1;32m    439\u001b[0m \u001b[43m            \u001b[49m\u001b[38;5;124;43m\"\u001b[39;49m\u001b[38;5;124;43mabsolute_tolerance\u001b[39;49m\u001b[38;5;124;43m\"\u001b[39;49m\u001b[43m:\u001b[49m\u001b[43m \u001b[49m\u001b[38;5;241;43m1e-5\u001b[39;49m\u001b[43m,\u001b[49m\n\u001b[1;32m    440\u001b[0m \u001b[43m            \u001b[49m\u001b[38;5;124;43m\"\u001b[39;49m\u001b[38;5;124;43mmaximum_iterations\u001b[39;49m\u001b[38;5;124;43m\"\u001b[39;49m\u001b[43m:\u001b[49m\u001b[43m \u001b[49m\u001b[38;5;241;43m10\u001b[39;49m\u001b[43m,\u001b[49m\n\u001b[1;32m    441\u001b[0m \u001b[43m        \u001b[49m\u001b[43m}\u001b[49m\n\u001b[1;32m    442\u001b[0m \u001b[43m    \u001b[49m\u001b[43m}\u001b[49m\u001b[43m,\u001b[49m\n\u001b[1;32m    443\u001b[0m \u001b[43m    \u001b[49m\u001b[43mform_compiler_parameters\u001b[49m\u001b[38;5;241;43m=\u001b[39;49m\u001b[43m{\u001b[49m\u001b[38;5;124;43m\"\u001b[39;49m\u001b[38;5;124;43moptimize\u001b[39;49m\u001b[38;5;124;43m\"\u001b[39;49m\u001b[43m:\u001b[49m\u001b[43m \u001b[49m\u001b[38;5;28;43;01mTrue\u001b[39;49;00m\u001b[43m}\u001b[49m\u001b[43m,\u001b[49m\n\u001b[1;32m    444\u001b[0m \u001b[43m\u001b[49m\u001b[43m)\u001b[49m\n\u001b[1;32m    445\u001b[0m \u001b[38;5;124;03m\"\"\"\u001b[39;00m\n\u001b[1;32m    446\u001b[0m \u001b[38;5;124;03mself._solver.solve(self.problem, self.state.vector())\u001b[39;00m\n\u001b[1;32m    447\u001b[0m \u001b[38;5;124;03m\"\"\"\u001b[39;00m\n\u001b[1;32m    448\u001b[0m \u001b[38;5;66;03m# save stress and strain to fenics functions\u001b[39;00m\n",
      "File \u001b[0;32m~/.conda/envs/fenicsproject/lib/python3.8/site-packages/dolfin/fem/solving.py:220\u001b[0m, in \u001b[0;36msolve\u001b[0;34m(*args, **kwargs)\u001b[0m\n\u001b[1;32m    217\u001b[0m \u001b[38;5;66;03m# Call variational problem solver if we get an equation (but not a\u001b[39;00m\n\u001b[1;32m    218\u001b[0m \u001b[38;5;66;03m# tolerance)\u001b[39;00m\n\u001b[1;32m    219\u001b[0m \u001b[38;5;28;01melif\u001b[39;00m \u001b[38;5;28misinstance\u001b[39m(args[\u001b[38;5;241m0\u001b[39m], ufl\u001b[38;5;241m.\u001b[39mclasses\u001b[38;5;241m.\u001b[39mEquation):\n\u001b[0;32m--> 220\u001b[0m     \u001b[43m_solve_varproblem\u001b[49m\u001b[43m(\u001b[49m\u001b[38;5;241;43m*\u001b[39;49m\u001b[43margs\u001b[49m\u001b[43m,\u001b[49m\u001b[43m \u001b[49m\u001b[38;5;241;43m*\u001b[39;49m\u001b[38;5;241;43m*\u001b[39;49m\u001b[43mkwargs\u001b[49m\u001b[43m)\u001b[49m\n\u001b[1;32m    222\u001b[0m \u001b[38;5;66;03m# Default case, just call the wrapped C++ solve function\u001b[39;00m\n\u001b[1;32m    223\u001b[0m \u001b[38;5;28;01melse\u001b[39;00m:\n\u001b[1;32m    224\u001b[0m     \u001b[38;5;28;01mif\u001b[39;00m kwargs:\n",
      "File \u001b[0;32m~/.conda/envs/fenicsproject/lib/python3.8/site-packages/dolfin/fem/solving.py:266\u001b[0m, in \u001b[0;36m_solve_varproblem\u001b[0;34m(*args, **kwargs)\u001b[0m\n\u001b[1;32m    264\u001b[0m solver \u001b[38;5;241m=\u001b[39m NonlinearVariationalSolver(problem)\n\u001b[1;32m    265\u001b[0m solver\u001b[38;5;241m.\u001b[39mparameters\u001b[38;5;241m.\u001b[39mupdate(solver_parameters)\n\u001b[0;32m--> 266\u001b[0m \u001b[43msolver\u001b[49m\u001b[38;5;241;43m.\u001b[39;49m\u001b[43msolve\u001b[49m\u001b[43m(\u001b[49m\u001b[43m)\u001b[49m\n",
      "\u001b[0;31mRuntimeError\u001b[0m: \n\n*** -------------------------------------------------------------------------\n*** DOLFIN encountered an error. If you are not able to resolve this issue\n*** using the information listed below, you can ask for help at\n***\n***     fenics-support@googlegroups.com\n***\n*** Remember to include the error message listed below and, if possible,\n*** include a *minimal* running example to reproduce the error.\n***\n*** -------------------------------------------------------------------------\n*** Error:   Unable to solve nonlinear system with NewtonSolver.\n*** Reason:  Newton solver did not converge because maximum number of iterations reached.\n*** Where:   This error was encountered inside NewtonSolver.cpp.\n*** Process: 0\n*** \n*** DOLFIN version: 2019.1.0\n*** Git changeset:  149cf7bbfffe157a560d262289a63cfe2d1e7244\n*** -------------------------------------------------------------------------\n"
     ]
    }
   ],
   "source": [
    "# then run the simulation\n",
    "\n",
    "fiber_dir_strain_i = np.zeros_like(active_precomputed)\n",
    "fiber_dir_stress_i = np.zeros_like(active_precomputed) \n",
    "subdomain_id = 1         # intracellular subdomain\n",
    "\n",
    "for step, a_str in enumerate(active_precomputed):\n",
    "    emimodel.update_active_fn(a_str)\n",
    "    emimodel.solve()\n",
    "    \n",
    "    print(f\"Running the simulation for step {step+1} / {len(active_precomputed)}.\")\n",
    "    \n",
    "    fiber_dir_strain_i[step] = \\\n",
    "        emimodel.evaluate_subdomain_strain_fibre_dir(subdomain_id)\n",
    "    fiber_dir_stress_i[step] = \\\n",
    "        emimodel.evaluate_subdomain_stress_fibre_dir(subdomain_id)"
   ]
  },
  {
   "cell_type": "markdown",
   "id": "49d5aebe",
   "metadata": {},
   "source": [
    "We can next plot these, let's do them in two separate subplots as they have different units:"
   ]
  },
  {
   "cell_type": "code",
   "execution_count": 39,
   "id": "dfaa8b12-2c20-43a9-a016-510aebdcc263",
   "metadata": {},
   "outputs": [
    {
     "data": {
      "image/png": "[encoded data removed]",
      "text/plain": [
       "<Figure size 1080x216 with 2 Axes>"
      ]
     },
     "metadata": {
      "needs_background": "light"
     },
     "output_type": "display_data"
    }
   ],
   "source": [
    "fig, axes = plt.subplots(1, 2, figsize=(15, 3))\n",
    "\n",
    "axes[0].plot(time, fiber_dir_strain_i)\n",
    "axes[1].plot(time, fiber_dir_stress_i)\n",
    "\n",
    "axes[0].set_xlabel(\"Time (ms)\")\n",
    "axes[1].set_xlabel(\"Time (ms)\")\n",
    "axes[0].set_ylabel(\"Strain (-)\")\n",
    "axes[1].set_ylabel(\"Stress (kPa)\")\n",
    "\n",
    "axes[0].set_title(r\"Fiber direction strain, over $\\Omega_i$\")\n",
    "axes[1].set_title(r\"Fiber direction stress, over $\\Omega_i$\")\n",
    "\n",
    "plt.show()"
   ]
  },
  {
   "cell_type": "markdown",
   "id": "ec7525e7",
   "metadata": {},
   "source": [
    "## Exercise\n",
    "\n",
    "In the code above we ran the simulation and tracked fiber direction strain and stress values averaged over the intracellular subdomain, $\\Omega_i$. We want to extend this by tracking the stress and strain values over both subdomains, and in three different directions.\n",
    "\n",
    "For these exercises, instead of running the code for all time steps you could first try with a smaller time interval (say, for the first 50 ms); then, when you are all done, run the full simulation. This might save you a bit of time in the code developing stage, as it does take some time to run the full 500 ms time span.\n",
    "\n",
    "1. We can also strack these over the extracellular subdomain by asking for subdomain_id $0$ instead of subdomain_id $1$. Declare new arras (or declare a twodimensional array) for the extracellular subdomain values, and extend the for loop to also track the fiber direction strain and stress values averaged over $\\Omega_e$. Plot these together with the intracellular stress and strain values, over time.\n",
    "\n",
    "2. We can next ask for stress and strain values in the perpendicular directions – the sheet direction, and the normal direction; i.e. the quantities $\\overline{E_{ss}}$, $\\overline{E_{nn}}$, $\\overline{\\sigma_{ss}}$ and $\\overline{\\sigma_{nn}}$ taken across $\\Omega_i$ and $\\Omega_j$, respectively. The functions that performs these integrals in the perpenduclar directions are called <code>evaluate_subdomain_strain_sheet_dir</code> and <code>evaluate_subdomain_strain_normal_dir</code>. As above, track these and plot them together with the other stress and strain values.\n",
    "\n",
    "You have now almost reproduced the plot in [Paper 2, Fig. 12], however, with a coarser mesh than the one used in the paper. Secondly, we also used an active stress / nearly incompressible / Guccione kind of model here, while the plot in the paper uses an active strain / fully incompressible / Holzapfel kind of model."
   ]
  },
  {
   "cell_type": "code",
   "execution_count": null,
   "id": "827382fb",
   "metadata": {},
   "outputs": [],
   "source": [
    "# write code here"
   ]
  }
 ],
 "metadata": {
  "kernelspec": {
   "display_name": "Python 3 (ipykernel)",
   "language": "python",
   "name": "python3"
  },
  "language_info": {
   "codemirror_mode": {
    "name": "ipython",
    "version": 3
   },
   "file_extension": ".py",
   "mimetype": "text/x-python",
   "name": "python",
   "nbconvert_exporter": "python",
   "pygments_lexer": "ipython3",
   "version": "3.8.12"
  }
 },
 "nbformat": 4,
 "nbformat_minor": 5
}
