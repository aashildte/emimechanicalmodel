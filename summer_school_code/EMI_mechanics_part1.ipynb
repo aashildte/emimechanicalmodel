{
 "cells": [
  {
   "cell_type": "markdown",
   "id": "a29686ff-944b-42f6-9805-b87cf571d0e1",
   "metadata": {},
   "source": [
    "# EMI mechanical model – part 1"
   ]
  },
  {
   "cell_type": "markdown",
   "id": "82e3d69c-ffdd-4610-bbcd-7968bedc902e",
   "metadata": {},
   "source": [
    "The EMI framework, in which we explicitly represent the extra- and intracellular subdomains geometrically, can also be used for mechanical modeling of the cells. The equations are somewhat different, but the core idea remains the same – that what happens inside the cells is fundamentally different from what happens outside of the cells. By averaging these out, we are missing out on interactions taking place on a microscale level."
   ]
  },
  {
   "cell_type": "markdown",
   "id": "610bc68d-fe4c-437b-8a02-246b54c6b0c6",
   "metadata": {},
   "source": [
    "The EMI model is, unlike myofilament level models, but like tissue-level models, a continuum-based model. That means that the variables have spatial distributions, where we look for solutions in a three-dimensional space, modeled by partial differential equations (PDEs). PDEs are, in their nature, more computationally expensive than ODEs, as there are so many more unknowns to solve for. The reward, is, however, that we can investigate the impact of different geometries and spatial variations."
   ]
  },
  {
   "cell_type": "markdown",
   "id": "229e24ab-7e8f-4c60-962e-b7fdfe8c05da",
   "metadata": {},
   "source": [
    "We will use the code from the repository [emimechanicalmodel](https://github.com/aashildte/emimechanicalmodel/), which is based on FEniCS. We can import all libraries we need as follows:"
   ]
  },
  {
   "cell_type": "code",
   "execution_count": 1,
   "id": "4bfd7d85-c32d-479b-90f8-4e91b93101f7",
   "metadata": {},
   "outputs": [
    {
     "name": "stderr",
     "output_type": "stream",
     "text": [
      "<frozen importlib._bootstrap>:219: RuntimeWarning: scipy._lib.messagestream.MessageStream size changed, may indicate binary incompatibility. Expected 56 from C header, got 64 from PyObject\n"
     ]
    }
   ],
   "source": [
    "import numpy as np\n",
    "import matplotlib.pyplot as plt\n",
    "\n",
    "import fenics as f\n",
    "import emimechanicalmodel as emi_m\n",
    "\n",
    "f.set_log_level(30)        # less verbatim output from the Newton solver compared to default"
   ]
  },
  {
   "cell_type": "markdown",
   "id": "bb68ae3e-e107-4f44-9d5a-3adfe57a4908",
   "metadata": {},
   "source": [
    "You don't really need to know much FEniCS in advance to run the code - we will guide you through what you need to know."
   ]
  },
  {
   "cell_type": "markdown",
   "id": "0b694d1d-c8f7-4b00-9db6-0b271fa36356",
   "metadata": {},
   "source": [
    "## Geometries and meshes"
   ]
  },
  {
   "cell_type": "markdown",
   "id": "02c06bea-f46b-42ef-be31-5fcf0ea3f1f9",
   "metadata": {},
   "source": [
    "We can start by reading in the mesh and subdomain information:"
   ]
  },
  {
   "cell_type": "code",
   "execution_count": 2,
   "id": "794490b7-c30c-4d3f-b6c9-0f7bd5b5cfc4",
   "metadata": {},
   "outputs": [
    {
     "name": "stdout",
     "output_type": "stream",
     "text": [
      "Mesh and subdomains loaded successfully.\n",
      "Number of nodes: 335, number of elements: 1364\n"
     ]
    }
   ],
   "source": [
    "mesh_file = \"tile_connected_10p0.h5\"\n",
    "mesh, volumes = emi_m.load_mesh(mesh_file)"
   ]
  },
  {
   "cell_type": "markdown",
   "id": "a82118eb-656d-4cc8-86a8-b99da9bf401a",
   "metadata": {},
   "source": [
    "Here, the mesh object gives us a tetrahedral representation of our geometry (all nodes and edges) and volumes is a so-called MeshFunction which tells us which elements (tetrahedra) belongs to the intracellular space, and which elements belongs to the extracellular space. We can actually print the meshfunction's \"array\" representation to see the data:"
   ]
  },
  {
   "cell_type": "code",
   "execution_count": 3,
   "id": "ec7f05a1-a343-4d81-b400-38af327b3cbe",
   "metadata": {},
   "outputs": [
    {
     "name": "stdout",
     "output_type": "stream",
     "text": [
      "Subdomain data length:  1364\n",
      "Subdomain data:  [1 1 1 ... 0 0 0]\n"
     ]
    }
   ],
   "source": [
    "print(\"Subdomain data length: \", len(volumes.array()[:]))\n",
    "print(\"Subdomain data: \", volumes.array()[:])"
   ]
  },
  {
   "cell_type": "markdown",
   "id": "8ae061cb-b4ce-4a26-9e91-50e35c8bf30a",
   "metadata": {},
   "source": [
    "Here, all the ones represent the cell (the intracellular subdomain) and all the zeros the matrix (the extracellular subdomain)."
   ]
  },
  {
   "cell_type": "markdown",
   "id": "51dc81a5-9fcc-4e49-bc69-4f95a6751df1",
   "metadata": {},
   "source": [
    "We can save the volumes object to a pvd file:"
   ]
  },
  {
   "cell_type": "code",
   "execution_count": 4,
   "id": "504de19b-38ef-4dbd-9ace-0c6044ba3477",
   "metadata": {},
   "outputs": [],
   "source": [
    "f.File(\"subdomains.pvd\") << volumes"
   ]
  },
  {
   "cell_type": "markdown",
   "id": "5b79dba1-e5a7-4ea2-9f09-45f1bbda29c3",
   "metadata": {},
   "source": [
    "In the code you are running the notebook from, you should now have a file called \"subdomains.pvd\", as well as a file called \"subdomains000000.vtu\", which belong together. You can open either of these in Paraview, and inspect the output. Through Paraview we can visualize the subdomains and the mesh representation, which for our sample mesh can look like this:"
   ]
  },
  {
   "cell_type": "markdown",
   "id": "f972f444-0d74-4248-bd77-b160ea3fb6cf",
   "metadata": {},
   "source": [
    "![title](figures/subdomains_meshes_tile_connected_10p0.png)"
   ]
  },
  {
   "cell_type": "markdown",
   "id": "6f681cf9-4180-450d-bf08-7c030f39a333",
   "metadata": {},
   "source": [
    "We will denote the intracellular subdomain, i.e., the cell, by $\\Omega_i$, and the extracellular subdomain, i.e., the matrix, by $\\Omega_e$."
   ]
  },
  {
   "cell_type": "markdown",
   "id": "52154960-c3a8-4a97-bdd5-b5f156916ab8",
   "metadata": {},
   "source": [
    "## Fundamental equations"
   ]
  },
  {
   "cell_type": "markdown",
   "id": "b0e2714a-f70a-4056-9078-9806454cd0ea",
   "metadata": {},
   "source": [
    "When we solve the mechanical problem, we want to find a displacement field $\\mathbf{u}$ which gives us an _equilibrium of stresses_. We are, essentially, solving for a three-dimensional version of Newton's third law, expressed by Piola-Kirchhoff stress tensor $\\mathbf{P}$:"
   ]
  },
  {
   "cell_type": "markdown",
   "id": "0cfe9b02-41d5-4dca-baf6-fa1363ea13f1",
   "metadata": {},
   "source": [
    "$$\\nabla \\cdot \\mathbf{P} = 0$$"
   ]
  },
  {
   "cell_type": "markdown",
   "id": "2e71ca23-eb68-46e2-bd44-56c98626479d",
   "metadata": {},
   "source": [
    "We allow for free contraction on all sides, such that all forces we deal with are generated by the cell itself. In addition, we need to account for stiffness of each subdomain. The stiffer either is, the harder it will be for the cell to contract. We won't go into details of the derivation, but in short, we can express $P$ as following:"
   ]
  },
  {
   "cell_type": "markdown",
   "id": "66ebc9f2-2260-4f97-863d-d49cfa9f54ac",
   "metadata": {},
   "source": [
    "$$ P = \\frac{\\partial \\Psi_{passive} (F)}{\\partial F} + \\frac{\\partial \\Psi_{active} (F)}{\\partial F}$$"
   ]
  },
  {
   "cell_type": "markdown",
   "id": "e2876318-3408-4835-9fa4-42079126d242",
   "metadata": {},
   "source": [
    "Here we are using an _active stress_ approach, in which active contraction is added in an additive manner. The other option is an _active strain_ approach. Both are reasonable choices, but the active stress approach might be easier to connect to physiological relevant quantities. "
   ]
  },
  {
   "cell_type": "markdown",
   "id": "1a921d77-7467-4f46-b2fc-f89cedffe03b",
   "metadata": {},
   "source": [
    "## Passive contribution\n",
    "\n",
    "The core of the EMI model is that both $\\psi_{passive}$ and $\\psi_{active}$ are defined differently for each subdomain. Starting with $\\psi_{passive}$, we can separate it into two separate contributions:"
   ]
  },
  {
   "cell_type": "markdown",
   "id": "0132701a-56d8-42b4-a75e-175dc882abc6",
   "metadata": {},
   "source": [
    "$$ \\Psi_{passive} (F) = \\begin{cases} \\Psi_{i} (F) \\qquad x \\in \\Omega_i \\\\ \\Psi_{e} (F) \\qquad x \\in \\Omega_e \\end{cases} $$"
   ]
  },
  {
   "cell_type": "markdown",
   "id": "dec912e5-3d97-409a-8183-468e2f98b507",
   "metadata": {},
   "source": [
    "This is, as you might notice, _not_ defined at the membrane itself, i.e., the surface separating the two subdomains. That is, however, not so important; you might think of it as that we assume, for simplicity, that the membrane has zero stiffness (which is not exactly right, but it works for our purposes)."
   ]
  },
  {
   "cell_type": "markdown",
   "id": "2c4a17ba-a61c-408a-94f7-fa0fa1cef427",
   "metadata": {},
   "source": [
    "We assume that the intracellular subdomain can be modeled as a _transversely isotropic_ material, which means that the cells are somewhat stiffer in the longitudinal direction than in the other directions. We can express this by components of the Cauchy-Green strain tensor $\\mathbf{E}$, which often is called a Guccione (or a Fung) kind of model:"
   ]
  },
  {
   "cell_type": "markdown",
   "id": "81d48b30-8519-446d-aae2-692eb8d70304",
   "metadata": {},
   "source": [
    "$$ \\Psi_i = C_i (e^{Q_i} - 1) + \\kappa_i (J \\ln J - J + 1) \\quad \\qquad \\mathbf{x} \\in \\Omega_{i} $$"
   ]
  },
  {
   "cell_type": "markdown",
   "id": "44fec82b-90a2-4509-822c-f07b23d8c4cf",
   "metadata": {},
   "source": [
    "The parameter $C_i$ has unit kPa, and adjusting will adjust the stiffness of the cell. Furthermore, the term $Q_i$ determines the exponential behavior of increasing amounts of strain:"
   ]
  },
  {
   "cell_type": "markdown",
   "id": "5f7797c2-be31-459a-9cef-83583a10d67a",
   "metadata": {},
   "source": [
    "$$ Q_i = b_{f, i} E_{11}^{2} + b_{t, i}(E_{22}^{2} + E_{33}^{2} + E_{23}^{2} + E_{32}^{2}) + b_{ft, i}(E_{12}^{2} + E_{21}^{2} + E_{13}^{2} + E_{31}^{2}) $$"
   ]
  },
  {
   "cell_type": "markdown",
   "id": "6da6d79b-b980-47fa-9924-c6ea62b6b68f",
   "metadata": {},
   "source": [
    "Here we have chosen $b_{f, i} = 8$, $b_{t, i} = 2$, $b_{ft, i} = 4$. These parameters determine the ratio between the fiber direction ($b_{f, i}$), the transverse direction ($b_{t, i}$) and the transverse direction ($b_{ft, i}$). If they are all equal, the material can be called _isotropic_."
   ]
  },
  {
   "cell_type": "markdown",
   "id": "0f7ea7fe-8a22-4c3c-9add-1487f08287d7",
   "metadata": {},
   "source": [
    "The term $\\kappa_i (J \\ln J - J + 1)$ helps us model the material as nearly incompressible; we could spend another seciton on defining this and variants (feel free to ask the lecturer), but for simplicity, for now, we are just going to accept that it is a part of the strain energy function."
   ]
  },
  {
   "cell_type": "markdown",
   "id": "a40883ed-4809-4a19-9eba-cec70c1ed256",
   "metadata": {},
   "source": [
    "Next, for the extracellular space, we will use"
   ]
  },
  {
   "cell_type": "markdown",
   "id": "e0fbffe4-8e98-4664-95e9-fb4e9bcabb42",
   "metadata": {},
   "source": [
    "$$ \\Psi_e = C_e (e^{Q_e} - 1) + \\kappa_e (J \\ln J - J + 1) \\quad \\qquad \\mathbf{x} \\in \\Omega_{i} $$"
   ]
  },
  {
   "cell_type": "markdown",
   "id": "0d77606a-e368-487a-b901-845094421c34",
   "metadata": {},
   "source": [
    "where"
   ]
  },
  {
   "cell_type": "markdown",
   "id": "d13c1029-2f0e-4e70-afe4-52ae0dcd99d4",
   "metadata": {},
   "source": [
    "$$ Q_e = b_e (E_{11}^{2} + E_{22}^{2} + E_{33}^{2} + E_{23}^{2} + E_{32}^{2}) + E_{12}^{2} + E_{21}^{2} + E_{13}^{2} + E_{31}^{2}) $$"
   ]
  },
  {
   "cell_type": "markdown",
   "id": "33c3c42f-8170-4cc8-b56f-3d15c7dea06f",
   "metadata": {},
   "source": [
    "Mathematically, this term is equal to $Q_i$ but with all parameters equal to $b_e$. Physiologically, this implies that the material is isotropic with material properties determined by $C_e$ and $b_e$, as well as the incompressibility paramter $\\kappa_e$."
   ]
  },
  {
   "cell_type": "markdown",
   "id": "01570ee1-031e-414f-843a-94b17c4e7b08",
   "metadata": {},
   "source": [
    "# Active contribution\n",
    "\n",
    "The separation of active contribution in the different subdomains is, in comparison to the passive part, pretty straight forward: We assume that the cells contract – with a non-zero contribution – and that the matrix does not contract. Mathematically we can say that the active tension is zero in the extracellular subdomain:\n",
    "\n",
    "$$\n",
    "\\Psi_{active} = \\begin{cases} \\frac{T_{active}(t)}{2} || F f ||^2 \\qquad \\qquad \\ x \\in \\Omega_i \\\\ 0 \\qquad \\quad \\qquad \\qquad \\qquad x \\in \\Omega_e \\end{cases}\n",
    "$$"
   ]
  },
  {
   "cell_type": "markdown",
   "id": "3b438f33-8594-4904-89b1-1b274e7bf32a",
   "metadata": {},
   "source": [
    "We have used the (scaled) force calculated from the Rice model to calculate $T_{active} (t)$; we've precalculated this for you and saved the values in <code>active_precomputed.npy</code>, which we simply will load in here. Note that this is _weakly_ coupled; we are not giving the local strain (which can be understood as the change in the sarcomere length) back to the Rice model. Physiologically this would have made most sense, but this is a non-trivial task – that no-one so far has been able to do!"
   ]
  },
  {
   "cell_type": "markdown",
   "id": "01095dc1-4e9e-4dc5-be64-413d969bf3cc",
   "metadata": {},
   "source": [
    "We have, for convenience, precalculated the force transient which we will read in for now. Later on, we'll play with some of the parameters to get different active tension transients based on changes in calcium and myofilament dynamics. We can read in, and plot, the pre-calculated values as follows:"
   ]
  },
  {
   "cell_type": "code",
   "execution_count": 42,
   "id": "42d6a928-f06c-4e48-919c-4e39d03785eb",
   "metadata": {},
   "outputs": [
    {
     "data": {
      "image/png": "[encoded data removed]",
      "text/plain": [
       "<Figure size 432x288 with 1 Axes>"
      ]
     },
     "metadata": {
      "needs_background": "light"
     },
     "output_type": "display_data"
    }
   ],
   "source": [
    "time = np.linspace(0, 500, 125)              # 500 ms with 125 steps\n",
    "active_force = np.load(\"active_precomputed.npy\")\n",
    "active_precomputed = active_force[0:500:4]   # same dimension as time\n",
    "\n",
    "plt.plot(time, active_precomputed)\n",
    "plt.xlabel(\"Time (ms)\")\n",
    "plt.ylabel(\"Active stress (kPa)\")\n",
    "plt.show()"
   ]
  },
  {
   "cell_type": "markdown",
   "id": "0ab0f5e6-6e72-4c4a-a749-aeefc50a9eb0",
   "metadata": {},
   "source": [
    "## Running the EMI model"
   ]
  },
  {
   "cell_type": "markdown",
   "id": "242dd046-caee-4751-98e8-542ed26a6e41",
   "metadata": {},
   "source": [
    "With the theory explained, let's move on to the actual coding! From the emimechanicalmodel library, we can make an instance of the EMI model which is based on all the equations above - predefined for us. You hence won't need to worry about getting any of the equations right; your main task will be to adjust the different parameters.\n",
    "\n",
    "We can create one instance like this:"
   ]
  },
  {
   "cell_type": "code",
   "execution_count": 43,
   "id": "87c1975c-bc47-4788-9bc5-72fa2f27c9e1",
   "metadata": {},
   "outputs": [
    {
     "name": "stdout",
     "output_type": "stream",
     "text": [
      "length=102.0, width=20.0, height=24.0\n"
     ]
    }
   ],
   "source": [
    "emimodel = emi_m.EMIModel(\n",
    "            mesh,\n",
    "            volumes,\n",
    "            experiment=\"contraction\",\n",
    "            material_model=\"guccione\",\n",
    "            active_model=\"active_stress\",\n",
    "            compressibility_model=\"nearly_incompressible\",\n",
    "        )"
   ]
  },
  {
   "cell_type": "markdown",
   "id": "b432b416-a985-406e-bc84-00af29cee6a8",
   "metadata": {},
   "source": [
    "The 'mesh' and 'volumes' parameters are given as explained above, and always needs to be provided. For the remaning parameters, we won't really change any, but just to give you an idea of what the options are:\n",
    "- experiment: Other options are stretch and shear modes on the form \"stretch_ff\" or \"shear_fs\" (etc.; please see [Paper/thesis] for an overview). These are passive deformation modes which are important for determining the material parameters (the stiffness in different directions).\n",
    "- material_model can be \"guccione\" or \"holzapfel\"\n",
    "- active_model can be \"active_stress\" or \"active_strain\"\n",
    "- compressibility_model can be \"nearly_incompressible\" or \"incompressible\"\n",
    "\n",
    "For the three latter, the \"guccione\" / \"active_stress\" / \"nearly_incompressible\" combination is used in [Paper 1], and the \"holzapfel\" / \"active strain\" / \"incompressible\" combination in [Paper 2]. There are numerical reasons for why the latter is more stable; but for most purposes the different combinations are interchangable.\n"
   ]
  },
  {
   "cell_type": "markdown",
   "id": "8de4baf0-7a9d-48f1-87a0-3fc955b0b978",
   "metadata": {},
   "source": [
    "### Contraction\n"
   ]
  },
  {
   "cell_type": "markdown",
   "id": "22eec909-c427-4eb4-85e2-7e5ede6f2ab8",
   "metadata": {},
   "source": [
    "Let's use the active values from above. We can update the active contraction in a for loop, like this, and solve the system in every iteration.\n",
    "\n",
    "We will track two variables over contraction: The average intracellular strain in the fiber direction, and the intracellular stress in the fiber direction. Mathematically, we are tracking the values\n",
    "\n",
    "\\begin{equation}\n",
    "\\overline{E_{ff}} = \\frac{\\int_{\\Omega_i} \\mathbf{f} \\cdot (\\mathbf{E} \\mathbf{f}) \\mathrm{d}\\mathbf{X}}{\\int_{\\Omega i} \\mathrm{d}\\mathbf{X}}\n",
    "\\qquad\n",
    "\\text{and}\n",
    "\\qquad\n",
    "    \\overline{\\sigma_{ff}} = \\frac{\\int_{\\Omega_i} \\mathbf{f} \\cdot (\\mathbf{\\sigma} \\mathbf{f}) \\mathrm{d}\\mathbf{X}}{\\int_{\\Omega i} \\mathrm{d}\\mathbf{X}}\n",
    "    \\label{eq:cm_stress}\n",
    "\\end{equation}\n",
    "\n",
    "and while it would certainly be possible to perform these integrals \"manually\" by writing out the Fenics code for each, this is already implemented so we will simply do this using in-built functions."
   ]
  },
  {
   "cell_type": "code",
   "execution_count": 44,
   "id": "b4a24f3b-9a0d-4014-af0b-94dbdd1a05f2",
   "metadata": {},
   "outputs": [
    {
     "name": "stdout",
     "output_type": "stream",
     "text": [
      "Running the simulation for step 1 / 125.\n",
      "0 -1.916032308811618e-05\n",
      "Running the simulation for step 2 / 125.\n",
      "1 -1.8241741093107007e-05\n",
      "Running the simulation for step 3 / 125.\n",
      "2 -1.737178685567753e-05\n",
      "Running the simulation for step 4 / 125.\n",
      "3 -1.6681944391374362e-05\n",
      "Running the simulation for step 5 / 125.\n",
      "4 -1.8330472760510693e-05\n",
      "Running the simulation for step 6 / 125.\n",
      "5 -4.173739713177091e-05\n",
      "Running the simulation for step 7 / 125.\n",
      "6 -0.00018435818079470218\n",
      "Running the simulation for step 8 / 125.\n",
      "7 -0.0007603293869061441\n",
      "Running the simulation for step 9 / 125.\n",
      "8 -0.0032986288719891958\n",
      "Running the simulation for step 10 / 125.\n",
      "9 -0.012579045126920037\n",
      "Running the simulation for step 11 / 125.\n",
      "10 -0.034837467318874424\n",
      "Running the simulation for step 12 / 125.\n",
      "11 -0.06633758107684697\n",
      "Running the simulation for step 13 / 125.\n",
      "12 -0.09310557210400593\n",
      "Running the simulation for step 14 / 125.\n",
      "13 -0.11167165132001579\n",
      "Running the simulation for step 15 / 125.\n",
      "14 -0.12783921426745426\n",
      "Running the simulation for step 16 / 125.\n",
      "15 -0.1423139755182685\n",
      "Running the simulation for step 17 / 125.\n",
      "16 -0.1535553885735774\n",
      "Running the simulation for step 18 / 125.\n",
      "17 -0.16222190608696885\n",
      "Running the simulation for step 19 / 125.\n",
      "18 -0.1692012554410618\n",
      "Running the simulation for step 20 / 125.\n",
      "19 -0.17510327498910241\n",
      "Running the simulation for step 21 / 125.\n",
      "20 -0.18019953572206818\n",
      "Running the simulation for step 22 / 125.\n",
      "21 -0.18451751914879272\n",
      "Running the simulation for step 23 / 125.\n",
      "22 -0.18806837061928075\n",
      "Running the simulation for step 24 / 125.\n",
      "23 -0.19096317315332528\n",
      "Running the simulation for step 25 / 125.\n",
      "24 -0.19335308436732324\n",
      "Running the simulation for step 26 / 125.\n",
      "25 -0.19535066090026904\n",
      "Running the simulation for step 27 / 125.\n",
      "26 -0.19702345678906666\n",
      "Running the simulation for step 28 / 125.\n",
      "27 -0.19841750680703452\n",
      "Running the simulation for step 29 / 125.\n",
      "28 -0.19956923705893043\n",
      "Running the simulation for step 30 / 125.\n",
      "29 -0.20050765058030262\n",
      "Running the simulation for step 31 / 125.\n",
      "30 -0.2012554739984365\n",
      "Running the simulation for step 32 / 125.\n",
      "31 -0.20183052036627372\n",
      "Running the simulation for step 33 / 125.\n",
      "32 -0.20224662240698432\n",
      "Running the simulation for step 34 / 125.\n",
      "33 -0.20251423346057626\n",
      "Running the simulation for step 35 / 125.\n",
      "34 -0.20264089441779248\n",
      "Running the simulation for step 36 / 125.\n",
      "35 -0.2026315977706896\n",
      "Running the simulation for step 37 / 125.\n",
      "36 -0.20248896344792425\n",
      "Running the simulation for step 38 / 125.\n",
      "37 -0.20221058760353383\n",
      "Running the simulation for step 39 / 125.\n",
      "38 -0.20179994546058697\n",
      "Running the simulation for step 40 / 125.\n",
      "39 -0.2012644838378883\n",
      "Running the simulation for step 41 / 125.\n",
      "40 -0.20059985898390592\n",
      "Running the simulation for step 42 / 125.\n",
      "41 -0.1998046067706895\n",
      "Running the simulation for step 43 / 125.\n",
      "42 -0.19887949300276273\n",
      "Running the simulation for step 44 / 125.\n",
      "43 -0.1978236767122733\n",
      "Running the simulation for step 45 / 125.\n",
      "44 -0.19663593103397456\n",
      "Running the simulation for step 46 / 125.\n",
      "45 -0.19531508694548358\n",
      "Running the simulation for step 47 / 125.\n",
      "46 -0.1938594956134557\n",
      "Running the simulation for step 48 / 125.\n",
      "47 -0.19226687950172425\n",
      "Running the simulation for step 49 / 125.\n",
      "48 -0.19053445653391526\n",
      "Running the simulation for step 50 / 125.\n",
      "49 -0.1886589646782551\n",
      "Running the simulation for step 51 / 125.\n",
      "50 -0.18663758440802725\n",
      "Running the simulation for step 52 / 125.\n",
      "51 -0.18446913071542131\n",
      "Running the simulation for step 53 / 125.\n",
      "52 -0.18214813027108143\n",
      "Running the simulation for step 54 / 125.\n",
      "53 -0.17967030360529646\n",
      "Running the simulation for step 55 / 125.\n",
      "54 -0.17703442647003442\n",
      "Running the simulation for step 56 / 125.\n",
      "55 -0.1742405917703472\n",
      "Running the simulation for step 57 / 125.\n",
      "56 -0.17128986999036439\n",
      "Running the simulation for step 58 / 125.\n",
      "57 -0.16818583440995308\n",
      "Running the simulation for step 59 / 125.\n",
      "58 -0.16493574244758433\n",
      "Running the simulation for step 60 / 125.\n",
      "59 -0.1615510532707806\n",
      "Running the simulation for step 61 / 125.\n",
      "60 -0.15804740877682186\n",
      "Running the simulation for step 62 / 125.\n",
      "61 -0.1544440564643358\n",
      "Running the simulation for step 63 / 125.\n",
      "62 -0.15076195619227012\n",
      "Running the simulation for step 64 / 125.\n",
      "63 -0.14702443112840377\n",
      "Running the simulation for step 65 / 125.\n",
      "64 -0.14325771274784935\n",
      "Running the simulation for step 66 / 125.\n",
      "65 -0.1394886018180715\n",
      "Running the simulation for step 67 / 125.\n",
      "66 -0.13574198471919657\n",
      "Running the simulation for step 68 / 125.\n",
      "67 -0.1320392579143576\n",
      "Running the simulation for step 69 / 125.\n",
      "68 -0.12839746354792825\n",
      "Running the simulation for step 70 / 125.\n",
      "69 -0.12482868409707853\n",
      "Running the simulation for step 71 / 125.\n",
      "70 -0.12133974316194217\n",
      "Running the simulation for step 72 / 125.\n",
      "71 -0.1179324206738659\n",
      "Running the simulation for step 73 / 125.\n",
      "72 -0.11460419186457912\n",
      "Running the simulation for step 74 / 125.\n",
      "73 -0.11134939811672562\n",
      "Running the simulation for step 75 / 125.\n",
      "74 -0.1081605727839745\n",
      "Running the simulation for step 76 / 125.\n",
      "75 -0.10502968857980592\n",
      "Running the simulation for step 77 / 125.\n",
      "76 -0.10194915830831836\n",
      "Running the simulation for step 78 / 125.\n",
      "77 -0.09891247001657107\n",
      "Running the simulation for step 79 / 125.\n",
      "78 -0.09591453544508366\n",
      "Running the simulation for step 80 / 125.\n",
      "79 -0.09295183650569358\n",
      "Running the simulation for step 81 / 125.\n",
      "80 -0.09002234395928223\n",
      "Running the simulation for step 82 / 125.\n",
      "81 -0.08712533188989992\n",
      "Running the simulation for step 83 / 125.\n",
      "82 -0.08426114664773376\n",
      "Running the simulation for step 84 / 125.\n",
      "83 -0.08143099556535481\n",
      "Running the simulation for step 85 / 125.\n",
      "84 -0.07863671212479931\n",
      "Running the simulation for step 86 / 125.\n",
      "85 -0.07588055108202121\n",
      "Running the simulation for step 87 / 125.\n",
      "86 -0.07316503767817795\n",
      "Running the simulation for step 88 / 125.\n",
      "87 -0.07049284797784133\n",
      "Running the simulation for step 89 / 125.\n",
      "88 -0.06786671640045053\n",
      "Running the simulation for step 90 / 125.\n",
      "89 -0.06528935593015456\n",
      "Running the simulation for step 91 / 125.\n",
      "90 -0.0627633988053124\n",
      "Running the simulation for step 92 / 125.\n",
      "91 -0.06029134435549731\n",
      "Running the simulation for step 93 / 125.\n",
      "92 -0.057875542154653035\n",
      "Running the simulation for step 94 / 125.\n",
      "93 -0.05551814745629965\n",
      "Running the simulation for step 95 / 125.\n",
      "94 -0.05322109564969342\n",
      "Running the simulation for step 96 / 125.\n",
      "95 -0.05098607821940418\n",
      "Running the simulation for step 97 / 125.\n",
      "96 -0.04881453551551546\n",
      "Running the simulation for step 98 / 125.\n",
      "97 -0.04670762782294641\n",
      "Running the simulation for step 99 / 125.\n",
      "98 -0.04466623573901992\n",
      "Running the simulation for step 100 / 125.\n",
      "99 -0.042690956619357755\n",
      "Running the simulation for step 101 / 125.\n",
      "100 -0.040782115212876634\n",
      "Running the simulation for step 102 / 125.\n",
      "101 -0.038939764431855345\n",
      "Running the simulation for step 103 / 125.\n",
      "102 -0.03716369962161716\n",
      "Running the simulation for step 104 / 125.\n",
      "103 -0.035453474582819236\n",
      "Running the simulation for step 105 / 125.\n",
      "104 -0.03380842136873602\n",
      "Running the simulation for step 106 / 125.\n",
      "105 -0.032227669455496655\n",
      "Running the simulation for step 107 / 125.\n",
      "106 -0.030710162415535123\n",
      "Running the simulation for step 108 / 125.\n",
      "107 -0.02925468247753848\n",
      "Running the simulation for step 109 / 125.\n",
      "108 -0.027859868667786954\n",
      "Running the simulation for step 110 / 125.\n",
      "109 -0.026524245826616288\n",
      "Running the simulation for step 111 / 125.\n",
      "110 -0.025246238811873722\n",
      "Running the simulation for step 112 / 125.\n",
      "111 -0.02402419963935489\n",
      "Running the simulation for step 113 / 125.\n",
      "112 -0.022856409811268835\n",
      "Running the simulation for step 114 / 125.\n",
      "113 -0.02174111554713335\n",
      "Running the simulation for step 115 / 125.\n",
      "114 -0.020676514496870125\n",
      "Running the simulation for step 116 / 125.\n",
      "115 -0.019660808687771987\n",
      "Running the simulation for step 117 / 125.\n",
      "116 -0.018692181762113333\n",
      "Running the simulation for step 118 / 125.\n",
      "117 -0.017768837526725485\n",
      "Running the simulation for step 119 / 125.\n",
      "118 -0.016888992446646666\n",
      "Running the simulation for step 120 / 125.\n",
      "119 -0.016050889347728425\n",
      "Running the simulation for step 121 / 125.\n",
      "120 -0.01525280209397503\n",
      "Running the simulation for step 122 / 125.\n",
      "121 -0.01449303868120012\n",
      "Running the simulation for step 123 / 125.\n",
      "122 -0.013769947446870918\n",
      "Running the simulation for step 124 / 125.\n",
      "123 -0.013081923614038869\n"
     ]
    },
    {
     "name": "stdout",
     "output_type": "stream",
     "text": [
      "Running the simulation for step 125 / 125.\n",
      "124 -0.012427408645349858\n"
     ]
    }
   ],
   "source": [
    "# then run the simulation\n",
    "\n",
    "fiber_dir_strain_i = np.zeros_like(active_precomputed)\n",
    "fiber_dir_stress_i = np.zeros_like(active_precomputed) \n",
    "subdomain_id = 1         # intracellular subdomain\n",
    "\n",
    "for step, a_str in enumerate(active_precomputed):\n",
    "    emimodel.update_active_fn(a_str)\n",
    "    emimodel.solve()\n",
    "    \n",
    "    print(f\"Running the simulation for step {step+1} / {len(active_precomputed)}.\")\n",
    "    \n",
    "    fiber_dir_strain_i[step] = \\\n",
    "        emimodel.evaluate_subdomain_strain_fibre_dir(subdomain_id)\n",
    "    fiber_dir_stress_i[step] = \\\n",
    "        emimodel.evaluate_subdomain_stress_fibre_dir(subdomain_id)\n",
    "    \n",
    "    print(step, fiber_dir_strain_i[step])"
   ]
  },
  {
   "cell_type": "markdown",
   "id": "49d5aebe",
   "metadata": {},
   "source": [
    "We can next plot these, let's do them in two separate subplots as they have different units:"
   ]
  },
  {
   "cell_type": "code",
   "execution_count": 45,
   "id": "dfaa8b12-2c20-43a9-a016-510aebdcc263",
   "metadata": {},
   "outputs": [
    {
     "data": {
      "image/png": "[encoded data removed]",
      "text/plain": [
       "<Figure size 1080x216 with 2 Axes>"
      ]
     },
     "metadata": {
      "needs_background": "light"
     },
     "output_type": "display_data"
    }
   ],
   "source": [
    "fig, axes = plt.subplots(1, 2, figsize=(15, 3))\n",
    "\n",
    "axes[0].plot(time, fiber_dir_strain_i)\n",
    "axes[1].plot(time, fiber_dir_stress_i)\n",
    "\n",
    "axes[0].set_xlabel(\"Time (ms)\")\n",
    "axes[1].set_xlabel(\"Time (ms)\")\n",
    "axes[0].set_ylabel(\"Strain (-)\")\n",
    "axes[1].set_ylabel(\"Stress (kPa)\")\n",
    "\n",
    "axes[0].set_title(r\"Fiber direction strain, over $\\Omega_i$\")\n",
    "axes[1].set_title(r\"Fiber direction stress, over $\\Omega_i$\")\n",
    "\n",
    "plt.show()"
   ]
  },
  {
   "cell_type": "markdown",
   "id": "ec7525e7",
   "metadata": {},
   "source": [
    "## Exercise\n",
    "\n",
    "In the code above we ran the simulation and tracked fiber direction strain and stress values averaged over the intracellular subdomain, $\\Omega_i$. We want to extend this by tracking the stress and strain values over both subdomains, and in three different directions.\n",
    "\n",
    "For these exercises, instead of running the code for all time steps you could first try with a smaller time interval (say, for the first 50 ms); then, when you are all done, run the full simulation. This might save you a bit of time in the code developing stage, as it does take some time to run the full 500 ms time span.\n",
    "\n",
    "1. We can also strack these over the extracellular subdomain by asking for subdomain_id $0$ instead of subdomain_id $1$. Declare new arras (or declare a twodimensional array) for the extracellular subdomain values, and extend the for loop to also track the fiber direction strain and stress values averaged over $\\Omega_e$. Plot these together with the intracellular stress and strain values, over time.\n",
    "\n",
    "2. We can next ask for stress and strain values in the perpendicular directions – the sheet direction, and the normal direction; i.e. the quantities $\\overline{E_{ss}}$, $\\overline{E_{nn}}$, $\\overline{\\sigma_{ss}}$ and $\\overline{\\sigma_{nn}}$ taken across $\\Omega_i$ and $\\Omega_j$, respectively. The functions that performs these integrals in the perpenduclar directions are called <code>evaluate_subdomain_strain_sheet_dir</code> and <code>evaluate_subdomain_strain_normal_dir</code>. As above, track these and plot them together with the other stress and strain values.\n",
    "\n",
    "You have now almost reproduced the plot in [Paper 2, Fig. 12], however, with a coarser mesh than the one used in the paper. Secondly, we also used an active stress / nearly incompressible / Guccione kind of model here, while the plot in the paper uses an active strain / fully incompressible / Holzapfel kind of model."
   ]
  },
  {
   "cell_type": "code",
   "execution_count": null,
   "id": "827382fb",
   "metadata": {},
   "outputs": [],
   "source": [
    "# write code here"
   ]
  }
 ],
 "metadata": {
  "kernelspec": {
   "display_name": "Python 3 (ipykernel)",
   "language": "python",
   "name": "python3"
  },
  "language_info": {
   "codemirror_mode": {
    "name": "ipython",
    "version": 3
   },
   "file_extension": ".py",
   "mimetype": "text/x-python",
   "name": "python",
   "nbconvert_exporter": "python",
   "pygments_lexer": "ipython3",
   "version": "3.8.12"
  }
 },
 "nbformat": 4,
 "nbformat_minor": 5
}
