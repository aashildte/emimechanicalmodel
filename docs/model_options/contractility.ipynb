{
 "cells": [
  {
   "cell_type": "markdown",
   "id": "a29686ff-944b-42f6-9805-b87cf571d0e1",
   "metadata": {},
   "source": [
    "# Contractility"
   ]
  },
  {
   "cell_type": "markdown",
   "id": "229e24ab-7e8f-4c60-962e-b7fdfe8c05da",
   "metadata": {},
   "source": [
    "As explained earlier, we let the cells contract – and make the matrix follow the motion. This is mathematically defined by continuity of displacement, as well as continuity of stress in the normal direction (of the membrane surface).\n",
    "\n",
    "We'll here go through the two options for incoporating contractility – active stress and active strain. As you'll see towards the end, this choice matters a lot both for strain and stress patterns. Determining which is more correct is, however, not so trivial – and remains an open research question.\n",
    "\n",
    "We will use the code from the main repository [emimechanicalmodel](https://github.com/aashildte/emimechanicalmodel/), which is based on FEniCS. We can import all libraries we need in this demo as follows, and read in the mesh and subdomains, as usual:"
   ]
  },
  {
   "cell_type": "code",
   "execution_count": 1,
   "id": "4bfd7d85-c32d-479b-90f8-4e91b93101f7",
   "metadata": {},
   "outputs": [
    {
     "name": "stderr",
     "output_type": "stream",
     "text": [
      "<frozen importlib._bootstrap>:219: RuntimeWarning: scipy._lib.messagestream.MessageStream size changed, may indicate binary incompatibility. Expected 56 from C header, got 64 from PyObject\n"
     ]
    }
   ],
   "source": [
    "import numpy as np\n",
    "import matplotlib.pyplot as plt\n",
    "\n",
    "import fenics as f\n",
    "import emimechanicalmodel as emi_m\n",
    "\n",
    "f.set_log_level(30)        # less verbatim output from the Newton solver compared to default\n",
    "\n",
    "mesh_file = \"tile_connected_10p0.h5\"\n",
    "mesh, volumes = emi_m.load_mesh(mesh_file)"
   ]
  },
  {
   "cell_type": "markdown",
   "id": "52154960-c3a8-4a97-bdd5-b5f156916ab8",
   "metadata": {},
   "source": [
    "## Incoporating active contraction"
   ]
  },
  {
   "cell_type": "markdown",
   "id": "b0e2714a-f70a-4056-9078-9806454cd0ea",
   "metadata": {},
   "source": [
    "When we solve the mechanical problem, we want to find a displacement field $\\mathbf{u}$ which gives us an _equilibrium of stresses_. We are, essentially, solving for a three-dimensional version of Newton's third law, expressed by Piola-Kirchhoff stress tensor $\\mathbf{P}$:"
   ]
  },
  {
   "cell_type": "markdown",
   "id": "0cfe9b02-41d5-4dca-baf6-fa1363ea13f1",
   "metadata": {},
   "source": [
    "$$\\nabla \\cdot \\mathbf{P} = 0$$"
   ]
  },
  {
   "cell_type": "markdown",
   "id": "2e71ca23-eb68-46e2-bd44-56c98626479d",
   "metadata": {},
   "source": [
    "We can here express $\\mathbf{P}$ as an equilibrium between active and passive forces.\n",
    "\n",
    "There are two ways we can incoporate that the cells are contracting. We can use an _active stress_ approach (which works in an additive manner) or and _active strain_ approach (working in a multiplicative manner). Both are reasonable choices, but the active stress approach might be easier to connect to physiological relevant quantities, while the active strain approach has certain numerical advantages."
   ]
  },
  {
   "cell_type": "markdown",
   "id": "66ebc9f2-2260-4f97-863d-d49cfa9f54ac",
   "metadata": {},
   "source": [
    "### Active stress\n",
    "\n",
    "Using an active stress approach, we can decompose $\\mathbf{P}$ into a passive and an active term:\n",
    "\n",
    "$$ P = \\frac{\\partial \\Psi_{passive} (F)}{\\partial F} + \\frac{\\partial \\Psi_{active} (F)}{\\partial F}$$\n",
    "\n",
    "The active part is, in this code, given in as a driver of the model. In more advanced models it can be dependent on a number of other relevant variables, e.g. calcium dynamics.\n",
    "\n",
    "The separation of active contribution in the different subdomains is pretty straight forward: We assume that the cells contract – with a non-zero contribution – and that the matrix does not contract. Mathematically we can say that the active tension is zero in the extracellular subdomain:\n",
    "\n",
    "$$\n",
    "\\Psi_{active} = \\begin{cases} \\frac{T_{active}(t)}{2} || \\mathbf{F} \\mathbf{f}_0 ||^2 \\qquad \\qquad \\ x \\in \\Omega_i \\\\ 0 \\qquad \\quad \\qquad \\qquad \\qquad x \\in \\Omega_e \\end{cases}\n",
    "$$\n",
    "\n",
    "Here, $T_{active}$ is a function which we take to be dependent on time, predefined, but in general can take e.g. calcium distributions, sarcomere dynamics, etc. into account."
   ]
  },
  {
   "cell_type": "markdown",
   "id": "e2876318-3408-4835-9fa4-42079126d242",
   "metadata": {},
   "source": [
    "### Active strain\n",
    "\n",
    "Using an active strain approach, we do a multiplicative decomposition. We define a function $\\gamma (t)$, which like $\\Psi_{active}$ is defined differently in each subdomain:\n",
    "\n",
    "$$\n",
    "\\gamma = \\begin{cases} \\gamma_i (t) \\qquad \\qquad \\ \\ \\ \\; x \\in \\Omega_i \\\\ 0 \\qquad \\qquad \\qquad x \\in \\Omega_e \\end{cases}\n",
    "$$\n",
    "\n",
    "$\\gamma$ has a theoretical upper bound of 1, but usually around \n",
    "\n",
    "then we define a tensor $\\mathbf{F}_{a}$ as follows:\n",
    "\n",
    "$$\n",
    "\\mathbf{F}_a =\n",
    "\\begin{bmatrix}\n",
    "1 - \\gamma & 0 & 0 \\\\\n",
    "0 & (1 - \\gamma)^{-1/2} & 0 \\\\\n",
    "0 & 0 & (1 - \\gamma)^{-1/2}\n",
    "\\end{bmatrix}\n",
    "$$\n",
    "\n",
    "We next define $\\mathbf{F}$ as the product between two matrices,\n",
    "\n",
    "$$\n",
    "\\mathbf{F} = \\mathbf{F}_p \\mathbf{F}_a.\n",
    "$$\n",
    "\n",
    "implying that\n",
    "\n",
    "$$\n",
    "\\mathbf{F}_p = \\mathbf{F} \\mathbf{F}_a^{-1}\n",
    "$$\n",
    "\n",
    "and, through the chain rule, we obtain that\n",
    "\n",
    "$$\n",
    "\\mathbf{P} = \\mathrm{det} (\\mathbf{F}_a) \\frac{\\partial \\psi (\\mathbf{F}_p)}{\\partial \\mathbf{F}_p} \\mathbf{F}_a^{-\\mathrm{T}}\n",
    "$$\n",
    "\n",
    "Note that the only difference from more traditional tissue-level mechanics is that we define $\\gamma$ discretely; the mathematics otherwise hold in general (see e.g. Rossi; citation needed)."
   ]
  },
  {
   "cell_type": "markdown",
   "id": "01570ee1-031e-414f-843a-94b17c4e7b08",
   "metadata": {},
   "source": [
    "## Active transient"
   ]
  },
  {
   "cell_type": "markdown",
   "id": "ce8c7c2e",
   "metadata": {},
   "source": [
    "We will use the force calculated from the Rice model to calculate $T_{active} (t)$ (using the active stress approach) or $\\gamma_i (t)$ (using the active strain approach). Note that this is _weakly_ coupled; we are not giving the local strain (which can be translated to the change in the sarcomere length) back to the Rice model. Physiologically this would have made most sense, but this is a non-trivial task – that no-one so far has been able to do for the EMI model!"
   ]
  },
  {
   "cell_type": "markdown",
   "id": "01095dc1-4e9e-4dc5-be64-413d969bf3cc",
   "metadata": {},
   "source": [
    "We have, for convenience, precalculated the force transient which we will read in for now. Later on, we'll play with some of the parameters to get different active tension transients based on changes in calcium and myofilament dynamics. We can read in, and plot, the pre-calculated values as follows:"
   ]
  },
  {
   "cell_type": "code",
   "execution_count": 3,
   "id": "42d6a928-f06c-4e48-919c-4e39d03785eb",
   "metadata": {},
   "outputs": [
    {
     "data": {
      "image/png": "[encoded data removed]",
      "text/plain": [
       "<Figure size 432x288 with 1 Axes>"
      ]
     },
     "metadata": {
      "needs_background": "light"
     },
     "output_type": "display_data"
    }
   ],
   "source": [
    "time = np.linspace(0, 500, 125)       # 500 ms with 125 steps\n",
    "\n",
    "active_force_normalized = emi_m.compute_active_component(time)\n",
    "\n",
    "plt.plot(time, active_force_normalized)\n",
    "plt.xlabel(\"Time (ms)\")\n",
    "plt.ylabel(\"Active force (kPa); unscaled\")\n",
    "plt.show()"
   ]
  },
  {
   "cell_type": "markdown",
   "id": "f2032311-a1df-45c7-9bb0-fc6a2e78107e",
   "metadata": {},
   "source": [
    "This is meant to resemble half of a single beat (up t0 500 ms, out of 1000). Note that this is a normalized beat, which needs to be scaled up to resemble contraction in a physiologically relevant range. Doubling the magnitude gives reasonable strain values (about 20 \\% shortening of the cell) for the active strain approach:"
   ]
  },
  {
   "cell_type": "code",
   "execution_count": 13,
   "id": "03600983",
   "metadata": {},
   "outputs": [],
   "source": [
    "active_precomputed_active_strain = 2*active_force_normalized"
   ]
  },
  {
   "cell_type": "markdown",
   "id": "812cb6ba",
   "metadata": {},
   "source": [
    "... and multiplying with a factor of 500 gives reasonable strain values for the active stress approach:"
   ]
  },
  {
   "cell_type": "code",
   "execution_count": 14,
   "id": "aafb6c1e",
   "metadata": {},
   "outputs": [],
   "source": [
    "active_precomputed_active_stress = 500*active_force_normalized"
   ]
  },
  {
   "cell_type": "markdown",
   "id": "cafff7ee",
   "metadata": {},
   "source": [
    "The values \"2\" and \"500\" are chosen fairly arbitarily, simply adjusted to get something that looks reasonable. These might, depepnding on your application, might be useful to experiment with."
   ]
  },
  {
   "cell_type": "markdown",
   "id": "8de4baf0-7a9d-48f1-87a0-3fc955b0b978",
   "metadata": {},
   "source": [
    "# Running the forward model"
   ]
  },
  {
   "cell_type": "markdown",
   "id": "22eec909-c427-4eb4-85e2-7e5ede6f2ab8",
   "metadata": {},
   "source": [
    "Let's use the active values from above. We can update the active contraction in a for loop, like this, and solve the system in every iteration. As before, we will be tracking intracellular strain and stress values for comparison:"
   ]
  },
  {
   "cell_type": "code",
   "execution_count": 15,
   "id": "b4a24f3b-9a0d-4014-af0b-94dbdd1a05f2",
   "metadata": {},
   "outputs": [
    {
     "name": "stdout",
     "output_type": "stream",
     "text": [
      "length=102.0, width=20.0, height=24.0\n",
      "0\n",
      "1\n",
      "2\n",
      "3\n",
      "4\n",
      "5\n",
      "6\n",
      "7\n",
      "8\n",
      "9\n",
      "10\n",
      "11\n",
      "12\n",
      "13\n",
      "14\n",
      "15\n",
      "16\n",
      "17\n",
      "18\n",
      "19\n",
      "20\n",
      "21\n",
      "22\n",
      "23\n",
      "24\n",
      "25\n",
      "26\n",
      "27\n",
      "28\n",
      "29\n",
      "length=102.0, width=20.0, height=24.0\n",
      "0\n",
      "1\n",
      "2\n",
      "3\n",
      "4\n",
      "5\n",
      "6\n",
      "7\n",
      "8\n",
      "9\n",
      "10\n",
      "11\n",
      "12\n",
      "13\n",
      "14\n",
      "15\n",
      "16\n",
      "17\n",
      "18\n",
      "19\n",
      "20\n",
      "21\n",
      "22\n",
      "23\n",
      "24\n",
      "25\n",
      "26\n",
      "27\n",
      "28\n",
      "29\n"
     ]
    },
    {
     "data": {
      "image/png": "[encoded data removed]",
      "text/plain": [
       "<Figure size 1080x216 with 2 Axes>"
      ]
     },
     "metadata": {
      "needs_background": "light"
     },
     "output_type": "display_data"
    }
   ],
   "source": [
    "fig, axes = plt.subplots(1, 2, figsize=(15, 3))\n",
    "\n",
    "active_models = [\"active_strain\", \"active_stress\"]\n",
    "active_values_precomputed = [active_precomputed_active_strain, active_precomputed_active_stress]\n",
    "\n",
    "for active_model, active_values in zip(active_models, active_values_precomputed):\n",
    "\n",
    "    emimodel = emi_m.EMIModel(\n",
    "            mesh,\n",
    "            volumes,\n",
    "            experiment=\"contraction\",\n",
    "            active_model=active_model,\n",
    "        )\n",
    "    \n",
    "    fiber_dir_strain_i = np.zeros_like(active_values)\n",
    "    fiber_dir_stress_i = np.zeros_like(active_values) \n",
    "    subdomain_id = 1         # intracellular subdomain\n",
    "\n",
    "    # then run the simulation\n",
    "    for step, a_str in enumerate(active_values):\n",
    "        \n",
    "        emimodel.update_active_fn(a_str)\n",
    "        emimodel.solve()\n",
    "    \n",
    "        fiber_dir_strain_i[step] = \\\n",
    "            emimodel.evaluate_subdomain_strain_fibre_dir(subdomain_id)\n",
    "        fiber_dir_stress_i[step] = \\\n",
    "            emimodel.evaluate_subdomain_stress_fibre_dir(subdomain_id)\n",
    "\n",
    "    axes[0].plot(time, fiber_dir_strain_i)\n",
    "    axes[1].plot(time, fiber_dir_stress_i)\n",
    "\n",
    "    \n",
    "axes[0].legend([\"Active strain\", \"Active stress\"])\n",
    "    \n",
    "axes[0].set_xlabel(\"Time (ms)\")\n",
    "axes[1].set_xlabel(\"Time (ms)\")\n",
    "axes[0].set_ylabel(\"Strain (-)\")\n",
    "axes[1].set_ylabel(\"Stress (kPa)\")\n",
    "\n",
    "axes[0].set_title(r\"Fiber direction strain, over $\\Omega_i$\")\n",
    "axes[1].set_title(r\"Fiber direction stress, over $\\Omega_i$\")\n",
    "\n",
    "plt.show()"
   ]
  },
  {
   "cell_type": "markdown",
   "id": "288cade9",
   "metadata": {},
   "source": []
  }
 ],
 "metadata": {
  "kernelspec": {
   "display_name": "Python 3 (ipykernel)",
   "language": "python",
   "name": "python3"
  },
  "language_info": {
   "codemirror_mode": {
    "name": "ipython",
    "version": 3
   },
   "file_extension": ".py",
   "mimetype": "text/x-python",
   "name": "python",
   "nbconvert_exporter": "python",
   "pygments_lexer": "ipython3",
   "version": "3.8.12"
  }
 },
 "nbformat": 4,
 "nbformat_minor": 5
}
