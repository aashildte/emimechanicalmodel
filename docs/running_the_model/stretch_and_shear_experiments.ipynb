{
 "cells": [
  {
   "cell_type": "markdown",
   "id": "a29686ff-944b-42f6-9805-b87cf571d0e1",
   "metadata": {},
   "source": [
    "# Stretch and shear experiments"
   ]
  },
  {
   "cell_type": "markdown",
   "id": "229e24ab-7e8f-4c60-962e-b7fdfe8c05da",
   "metadata": {},
   "source": [
    "When we solve the mechanical model, we are solving for an equilibrium of stresses. Here, both active and passive tension plays in, as well as boundary conditions. The passive tension is determined by a strain energy function. The matematical definition will determine the overall behavior – e.g. linear, exponential – together with numerical parameters determining the stiffness of the material for different deformation modes. These parameters are explicitly called _material parameters_, and determining these for cardiac tissue is a matter of current interest in the cardiac mechanics community.\n",
    "\n",
    "The strain energy function is usually found by performing _stretch_ and _shear_ experiments of tissue samples (of cardiac tissue), often taken to be cubes. Cardiac tissue is known to be _fully orthotropic_, i.e., it has different stiffness properties along all three perpendicular axes.\n",
    "\n",
    "As in the previous chapter, let's start by importing all libraries we need in this demo:"
   ]
  },
  {
   "cell_type": "code",
   "execution_count": 1,
   "id": "4bfd7d85-c32d-479b-90f8-4e91b93101f7",
   "metadata": {},
   "outputs": [
    {
     "name": "stderr",
     "output_type": "stream",
     "text": [
      "<frozen importlib._bootstrap>:219: RuntimeWarning: scipy._lib.messagestream.MessageStream size changed, may indicate binary incompatibility. Expected 56 from C header, got 64 from PyObject\n"
     ]
    }
   ],
   "source": [
    "import numpy as np\n",
    "import matplotlib.pyplot as plt\n",
    "\n",
    "import fenics as f\n",
    "import emimechanicalmodel as emi_m\n",
    "\n",
    "f.set_log_level(30)        # less verbatim output from the Newton solver compared to default"
   ]
  },
  {
   "cell_type": "markdown",
   "id": "02c06bea-f46b-42ef-be31-5fcf0ea3f1f9",
   "metadata": {},
   "source": [
    "Next, we can start by reading in the mesh and subdomain information:"
   ]
  },
  {
   "cell_type": "code",
   "execution_count": 2,
   "id": "794490b7-c30c-4d3f-b6c9-0f7bd5b5cfc4",
   "metadata": {},
   "outputs": [
    {
     "name": "stdout",
     "output_type": "stream",
     "text": [
      "Mesh and subdomains loaded successfully.\n",
      "Number of nodes: 335, number of elements: 1364\n"
     ]
    }
   ],
   "source": [
    "mesh_file = \"tile_connected_10p0.h5\"\n",
    "mesh, volumes = emi_m.load_mesh(mesh_file)"
   ]
  },
  {
   "cell_type": "markdown",
   "id": "52154960-c3a8-4a97-bdd5-b5f156916ab8",
   "metadata": {},
   "source": [
    "## Fundamental equations"
   ]
  },
  {
   "cell_type": "markdown",
   "id": "b0e2714a-f70a-4056-9078-9806454cd0ea",
   "metadata": {},
   "source": [
    "When we solve the mechanical problem, we want to find a displacement field $\\mathbf{u}$ which gives us an _equilibrium of stresses_. We are, essentially, solving for a three-dimensional version of Newton's third law, expressed by Piola-Kirchhoff stress tensor $\\mathbf{P}$:"
   ]
  },
  {
   "cell_type": "markdown",
   "id": "0cfe9b02-41d5-4dca-baf6-fa1363ea13f1",
   "metadata": {},
   "source": [
    "$$\\nabla \\cdot \\mathbf{P} = 0$$"
   ]
  },
  {
   "cell_type": "markdown",
   "id": "2e71ca23-eb68-46e2-bd44-56c98626479d",
   "metadata": {},
   "source": [
    "In this section, we won't include any active contraction. Instead, we'll solve for an equilibrium given by the passive properties of the material _subject to boundary conditions_ which will give us the stretching and shearing deformation modes of interest. Here, $\\mathbf{P}$ will depend on the deformation tensor $\\mathbf{F}$ and a given strain energy $\\Psi$:"
   ]
  },
  {
   "cell_type": "markdown",
   "id": "66ebc9f2-2260-4f97-863d-d49cfa9f54ac",
   "metadata": {},
   "source": [
    "$$ P = \\frac{\\partial \\Psi (F)}{\\partial F}$$"
   ]
  },
  {
   "cell_type": "markdown",
   "id": "1a921d77-7467-4f46-b2fc-f89cedffe03b",
   "metadata": {},
   "source": [
    "The two core ideas in the EMI model are that both $\\psi_{passive}$ and $\\psi_{active}$ are defined differently for each subdomain. For $\\psi$ as given above, we can separate it into two separate contributions:"
   ]
  },
  {
   "cell_type": "markdown",
   "id": "0132701a-56d8-42b4-a75e-175dc882abc6",
   "metadata": {},
   "source": [
    "$$ \\Psi (F) = \\begin{cases} \\Psi_{i} (F) \\qquad x \\in \\Omega_i \\\\ \\Psi_{e} (F) \\qquad x \\in \\Omega_e \\end{cases} $$"
   ]
  },
  {
   "cell_type": "markdown",
   "id": "dec912e5-3d97-409a-8183-468e2f98b507",
   "metadata": {},
   "source": [
    "This is, as you might notice, _not_ defined at the membrane itself, i.e., the surface separating the two subdomains. That is, however, not so important; you might think of it as that we assume, for simplicity, that the membrane has zero stiffness (which is not exactly right, but it's a valid simplification)."
   ]
  },
  {
   "cell_type": "markdown",
   "id": "b970e069",
   "metadata": {},
   "source": [
    "## Deformation modes of interest\n",
    "\n",
    "There are, in general, nine different deformation modes of interest used to determine the material parameters of cardiac tissue – three for stretching the material, and six for shearing the material in a diagonal manner.\n",
    "\n",
    "<br />\n",
    "\n",
    "<center>\n",
    "<div>\n",
    "<img src=\"../stretching_shearing_deformation_modes.png\" width=\"500\"/>\n",
    "</div>\n",
    "</center>\n",
    "\n",
    "<br />\n",
    "\n",
    "A: 25 % shear deformation of the fiber-sheet shear deformation mode $FS$. B: All nine deformation modes of interest. The white arrows display the direction we move a surface in, while the opposite surface remains fixed. The pink arrows display the normals of the same surfaces.\n",
    "\n",
    "----\n",
    "\n",
    "There are two ways to perform stretching (and shearing) experiments. They are two sides of the same coin; applying one approach we can calculate the result in the other, and vice versa. One way, and prehaps the most normal one, is to apply a load on one surface while fixing the opposite one. That will result in that the domain moves on one side, from which one can calculate a resulting displacement. For the EMI model, however, since we have different intra- and extracellular stiffness properties this would result in a spatially varying displacement, dependent on the cellular geometry.\n",
    "\n",
    "The other one, which we will use in our model, is to prescribe a displacement. For a given displacement (i.e., a given stretch value) we can, based on the resulting stress values, calculate the resulting load on a given surface. We will prescribe the stretch using a constant value; and the resulting load will then be a spatially varying variable. When we report on the load values, this is actually calculated as a surface integral over the given surface, normalized by the surface area.\n",
    "\n"
   ]
  },
  {
   "cell_type": "markdown",
   "id": "0ab0f5e6-6e72-4c4a-a749-aeefc50a9eb0",
   "metadata": {},
   "source": [
    "## Running the EMI model"
   ]
  },
  {
   "cell_type": "markdown",
   "id": "242dd046-caee-4751-98e8-542ed26a6e41",
   "metadata": {},
   "source": [
    "With the theory explained, let's get the model running! From the emimechanicalmodel library, we can make an instance of the EMI model which is based on all the equations above. The instances will be defined differently for each stretching and shearing mode."
   ]
  },
  {
   "cell_type": "markdown",
   "id": "8de4baf0-7a9d-48f1-87a0-3fc955b0b978",
   "metadata": {},
   "source": [
    "### Stretching experiments"
   ]
  },
  {
   "cell_type": "markdown",
   "id": "22eec909-c427-4eb4-85e2-7e5ede6f2ab8",
   "metadata": {},
   "source": [
    "Let's first perform the three stretching experiments – in the fiber, sheet, and normal directions. As we stretch the domain in different direcitons, we'll track the (averaged) normal load values."
   ]
  },
  {
   "cell_type": "code",
   "execution_count": 13,
   "id": "b4a24f3b-9a0d-4014-af0b-94dbdd1a05f2",
   "metadata": {},
   "outputs": [
    {
     "name": "stdout",
     "output_type": "stream",
     "text": [
      "length=102.0, width=20.0, height=24.0\n",
      "Calling FFC just-in-time (JIT) compiler, this may take some time.\n",
      "Calling FFC just-in-time (JIT) compiler, this may take some time.\n",
      "Calling FFC just-in-time (JIT) compiler, this may take some time.\n",
      "length=102.0, width=20.0, height=24.0\n",
      "Calling FFC just-in-time (JIT) compiler, this may take some time.\n",
      "length=102.0, width=20.0, height=24.0\n",
      "Calling FFC just-in-time (JIT) compiler, this may take some time.\n"
     ]
    },
    {
     "data": {
      "image/png": "[encoded data removed]",
      "text/plain": [
       "<Figure size 432x288 with 1 Axes>"
      ]
     },
     "metadata": {
      "needs_background": "light"
     },
     "output_type": "display_data"
    }
   ],
   "source": [
    "\n",
    "deformation_modes = [\"stretch_ff\", \"stretch_ss\", \"stretch_nn\"]\n",
    "labels = [\"Stretch FF\", \"Stretch SS\", \"Stretch NN\"]\n",
    "\n",
    "stretch_values = np.linspace(0, 0.15, 10)           # up to 15 % in 10 steps\n",
    "\n",
    "for deformation_mode, label in zip(deformation_modes, labels):\n",
    "\n",
    "    emimodel = emi_m.EMIModel(\n",
    "            mesh,\n",
    "            volumes,\n",
    "            experiment=deformation_mode,\n",
    "        )\n",
    "\n",
    "    load_values = np.zeros_like(stretch_values)\n",
    "    \n",
    "    # then run the simulation\n",
    "    for step, stretch_value in enumerate(stretch_values):\n",
    "        emimodel.assign_stretch(stretch_value)\n",
    "        emimodel.solve()\n",
    "        \n",
    "        load_values[step] = emimodel.evaluate_normal_load()\n",
    "    \n",
    "    plt.plot(100*stretch_values, load_values, label=label)\n",
    "\n",
    "plt.xlabel(\"Stretch (%)\")\n",
    "plt.ylabel(\"Load (kPa)\")\n",
    "\n",
    "plt.legend()\n",
    "plt.show()"
   ]
  },
  {
   "cell_type": "markdown",
   "id": "f7ac7f86",
   "metadata": {},
   "source": [
    "### Shearing experiments\n",
    "\n",
    "In a similar manner, we can perform shear experiments simply by specifying what kind of experiments we want to perform. For these, we'll track both normal and shear load values (which were coinciding for the stretching experiments):"
   ]
  },
  {
   "cell_type": "code",
   "execution_count": null,
   "id": "74659f6c",
   "metadata": {},
   "outputs": [
    {
     "name": "stdout",
     "output_type": "stream",
     "text": [
      "length=102.0, width=20.0, height=24.0\n",
      "length=102.0, width=20.0, height=24.0\n"
     ]
    }
   ],
   "source": [
    "\n",
    "deformation_modes = [\"shear_fs\", \"shear_fn\", \"shear_sf\", \"shear_sn\", \"shear_nf\", \"shear_ns\"]\n",
    "labels = [\"Shear FS\", \"Shear FN\", \"Shear SF\", \"Shear SN\", \"Shear NF\", \"Shear NS\"]\n",
    "\n",
    "stretch_values = np.linspace(0, 0.4, 20)           # up to 40 % in 20 steps\n",
    "\n",
    "fig, axes = plt.subplots(1, 2, figsize=(15, 3), sharey=True, sharex=True)\n",
    "\n",
    "for deformation_mode, label in zip(deformation_modes, labels):\n",
    "\n",
    "    emimodel = emi_m.EMIModel(\n",
    "            mesh,\n",
    "            volumes,\n",
    "            experiment=deformation_mode,\n",
    "        )\n",
    "\n",
    "    normal_load_values = np.zeros_like(stretch_values)\n",
    "    shear_load_values = np.zeros_like(stretch_values)\n",
    "    \n",
    "    # then run the simulation\n",
    "    for step, stretch_value in enumerate(stretch_values):\n",
    "        emimodel.assign_stretch(stretch_value)\n",
    "        emimodel.solve()\n",
    "        \n",
    "        normal_load_values[step] = emimodel.evaluate_normal_load()\n",
    "        shear_load_values[step] = emimodel.evaluate_shear_load()\n",
    "    \n",
    "    axes[0].plot(100*stretch_values, normal_load_values, label=label)\n",
    "    axes[1].plot(100*stretch_values, shear_load_values, label=label)\n",
    "\n",
    "axes[0].set_xlabel(\"Shear (%)\")\n",
    "axes[1].set_xlabel(\"Shear (%)\")\n",
    "axes[0].set_ylabel(\"Load (kPa)\")\n",
    "\n",
    "axes[0].set_title(\"Normal load\")\n",
    "axes[1].set_title(\"Shear load\")\n",
    "\n",
    "axes[0].legend()\n",
    "axes[1].legend()\n",
    "\n",
    "plt.legend()\n",
    "plt.show()"
   ]
  },
  {
   "cell_type": "markdown",
   "id": "179a5f7b",
   "metadata": {},
   "source": [
    "In the second paper we used all of these experiments for parametrization of the model; see methods section for more details."
   ]
  }
 ],
 "metadata": {
  "kernelspec": {
   "display_name": "Python 3 (ipykernel)",
   "language": "python",
   "name": "python3"
  },
  "language_info": {
   "codemirror_mode": {
    "name": "ipython",
    "version": 3
   },
   "file_extension": ".py",
   "mimetype": "text/x-python",
   "name": "python",
   "nbconvert_exporter": "python",
   "pygments_lexer": "ipython3",
   "version": "3.8.12"
  }
 },
 "nbformat": 4,
 "nbformat_minor": 5
}
