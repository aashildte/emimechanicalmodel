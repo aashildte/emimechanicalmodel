{
 "cells": [
  {
   "cell_type": "markdown",
   "id": "a4bb74c9-ad06-467f-ab0f-a694eadab612",
   "metadata": {},
   "source": [
    "# Cardiac structures"
   ]
  },
  {
   "cell_type": "markdown",
   "id": "6e27ad59-929c-4397-90d0-85d78b41158c",
   "metadata": {},
   "source": [
    "This section goes through some terminology which might be useful for understanding the remaning chapters. Our model takes into account the explicit geometrical representation of cells (cardiomyocytes) embedded in an extracellular matrix (ECM)."
   ]
  },
  {
   "cell_type": "markdown",
   "id": "2a7601cd-261b-4c5a-b754-f88f5354a0e6",
   "metadata": {},
   "source": [
    "## Cardiac anisotropy"
   ]
  },
  {
   "cell_type": "markdown",
   "id": "ed125a76-5746-4d69-bdce-8bb2cd1ef397",
   "metadata": {},
   "source": [
    "<br />\n",
    "\n",
    "<center>\n",
    "<div>\n",
    "<img src=\"../cardiac_anisotropy.png\" width=\"500\"/>\n",
    "</div>\n",
    "</center>\n",
    "\n",
    "<br />\n",
    "\n",
    "__Myocardial structure at different scales.__ The tissue in the heart (A) can be considered as composed by several layers (B). The myocardium is enclosed by an inner endocardium layer and an outer epicardium layer, of which the latter is also considered a part of the larger pericardium layer. The myocardium (C) is, in volume, mostly composed of cardiomyocytes (cardiac muscle cells). These are surrounded by the endomysium (closest to the cells), the perimysium, and the epimysium, all different extracellular matrix components. These structures gives rise to a local fiber direction $\\mathbf{f}$, a sheet direction $\\mathbf{s}$ and a normal direction $\\mathbf{n}$. The global fiber direction distribution, as distributed close to the epicardium, is indicated by streamlines in (A).\n",
    "\n",
    "----\n",
    "\n",
    "The cardiomyocytes are locally aligned in their longitudinal direction, defining what is called the _fiber direction_ $\\mathbf{f}$. Considering the whole heart as observed from the outside, these follow a helix pattern. The cardiomyocytes are further believed to be organized in laminar sheets, separated by perimysium layers, which motivates a second axis for local alignment, the _sheet direction_ $\\mathbf{s}$. Finally, one commonly defines the _normal direction_ $\\mathbf{n}$ to be aligned with a third axis, which is given by the cross product between the unit vectors that define the fiber and sheet directions."
   ]
  },
  {
   "cell_type": "markdown",
   "id": "6351c07f-2a22-4a13-a0a3-732223636975",
   "metadata": {},
   "source": [
    "## Geometries and cardiac structure\n",
    "<br />\n",
    "\n",
    "<center>\n",
    "<div>\n",
    "<img src=\"../geometries_meshes.png\" width=\"300\" height=600/>\n",
    "</div>\n",
    "</center>\n",
    "\n",
    "<br />\n",
    "\n",
    "__Geometries and meshes__. The code in this repo is developed for geometries / meshes like these. (A-C) Single cell; geometries, mesh structure, and dimensions. (D-F) Tiled mesh $3 \\times 3 \\times 3$ cells.\n",
    "\n",
    "----\n",
    "\n",
    "The geometries we work on represent the cellular structure on a local level, in a very idealized way. In principle, the geometrical domains can be way more complicated. However, keeping them simpler make it easier to generalize from one cell to multicellular domains.\n",
    "\n",
    "We have a distinct cellular longitudinal direction, which we will take to be the fiber direction $\\mathbf{f}$. For practical purposes, in the geometries we have generated, this is aligned with the $\\mathbf{x}$ direction in a Cartesian coordinate system. Next, as visible in subfigures C and F in the figure above, the cubical structure representing one unit is slightly thicker in one direction than the other. This is meant to resemble layers of perimysium. Ideally, we should have a geometry with a few cells before adding a layer; but for simplicity we assume that the layers are one cell thick. We take the _sheet direction_ to be in the direction where the ECM layer is thin (aligned with the $\\mathbf{y}$ direction) and the _fiber direction_ to be in the direction where the ECM layer is thicker (aligned with the $\\mathbf{z}$ direction).\n"
   ]
  },
  {
   "cell_type": "code",
   "execution_count": null,
   "id": "b55f9f3f",
   "metadata": {},
   "outputs": [],
   "source": []
  }
 ],
 "metadata": {
  "kernelspec": {
   "display_name": "Python 3 (ipykernel)",
   "language": "python",
   "name": "python3"
  },
  "language_info": {
   "codemirror_mode": {
    "name": "ipython",
    "version": 3
   },
   "file_extension": ".py",
   "mimetype": "text/x-python",
   "name": "python",
   "nbconvert_exporter": "python",
   "pygments_lexer": "ipython3",
   "version": "3.9.7"
  }
 },
 "nbformat": 4,
 "nbformat_minor": 5
}
