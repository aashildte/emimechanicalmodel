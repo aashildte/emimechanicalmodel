{
 "cells": [
  {
   "cell_type": "markdown",
   "id": "a29686ff-944b-42f6-9805-b87cf571d0e1",
   "metadata": {},
   "source": [
    "# Meshes and geometries"
   ]
  },
  {
   "cell_type": "markdown",
   "id": "82e3d69c-ffdd-4610-bbcd-7968bedc902e",
   "metadata": {},
   "source": [
    "The EMI framework, in which we have an explicit geometrical representation, can be used to differentiate between processes taking place inside of the cells and in the matrix surroudning the. The core idea is that what happens inside the cells is fundamentally different from what happens outside of the cells; and by averaging these out we are missing out interactions taking place on a microscale level."
   ]
  },
  {
   "cell_type": "markdown",
   "id": "610bc68d-fe4c-437b-8a02-246b54c6b0c6",
   "metadata": {},
   "source": [
    "The geometries represent a fundamental part of the EMI model. In this section, we'll go through how to read in the meshes which already exist. We will also, towards the end, provide some information about how to generate your own meshes."
   ]
  },
  {
   "cell_type": "markdown",
   "id": "229e24ab-7e8f-4c60-962e-b7fdfe8c05da",
   "metadata": {},
   "source": [
    "We will use the code from the repository [emimechanicalmodel](https://github.com/aashildte/emimechanicalmodel/), which is based on FEniCS. We can import all libraries we need as following:"
   ]
  },
  {
   "cell_type": "code",
   "execution_count": 2,
   "id": "4bfd7d85-c32d-479b-90f8-4e91b93101f7",
   "metadata": {},
   "outputs": [],
   "source": [
    "import fenics as f\n",
    "import emimechanicalmodel as emi_m"
   ]
  },
  {
   "cell_type": "markdown",
   "id": "bb68ae3e-e107-4f44-9d5a-3adfe57a4908",
   "metadata": {},
   "source": [
    "You don't really need to know much FEniCS in advance to run the code - we will guide you through what you need to know."
   ]
  },
  {
   "cell_type": "markdown",
   "id": "0b694d1d-c8f7-4b00-9db6-0b271fa36356",
   "metadata": {},
   "source": [
    "## Reading in one mesh file"
   ]
  },
  {
   "cell_type": "markdown",
   "id": "02c06bea-f46b-42ef-be31-5fcf0ea3f1f9",
   "metadata": {},
   "source": [
    "We can start by reading in the mesh and subdomain information:"
   ]
  },
  {
   "cell_type": "code",
   "execution_count": 13,
   "id": "794490b7-c30c-4d3f-b6c9-0f7bd5b5cfc4",
   "metadata": {},
   "outputs": [
    {
     "name": "stdout",
     "output_type": "stream",
     "text": [
      "Mesh and subdomains loaded successfully.\n",
      "Number of nodes: 335, number of elements: 1364\n"
     ]
    }
   ],
   "source": [
    "mesh_file = \"meshes/tile_connected_10p0.h5\"\n",
    "mesh, volumes = emi_m.load_mesh(mesh_file)"
   ]
  },
  {
   "cell_type": "markdown",
   "id": "a82118eb-656d-4cc8-86a8-b99da9bf401a",
   "metadata": {},
   "source": [
    "Here, the mesh object gives us a tetrahedral representation of our geometry (all nodes and edges) and volumes is a so-called MeshFunction which tells us which elements (tetrahedra) belongs to the intracellular space, and which elements belongs to the extracellular space. We can actually print the meshfunction's \"array\" representation to see the data:"
   ]
  },
  {
   "cell_type": "code",
   "execution_count": 14,
   "id": "ec7f05a1-a343-4d81-b400-38af327b3cbe",
   "metadata": {},
   "outputs": [
    {
     "name": "stdout",
     "output_type": "stream",
     "text": [
      "Subdomain data length:  1364\n",
      "Subdomain data:  [1 1 1 ... 0 0 0]\n"
     ]
    }
   ],
   "source": [
    "print(\"Subdomain data length: \", len(volumes.array()[:]))\n",
    "print(\"Subdomain data: \", volumes.array()[:])"
   ]
  },
  {
   "cell_type": "markdown",
   "id": "8ae061cb-b4ce-4a26-9e91-50e35c8bf30a",
   "metadata": {},
   "source": [
    "Here, all the ones represent the cell (the intracellular subdomain) and all the zeros the matrix (the extracellular subdomain)."
   ]
  },
  {
   "cell_type": "markdown",
   "id": "51dc81a5-9fcc-4e49-bc69-4f95a6751df1",
   "metadata": {},
   "source": [
    "We can save the volumes object to a pvd file:"
   ]
  },
  {
   "cell_type": "code",
   "execution_count": 15,
   "id": "504de19b-38ef-4dbd-9ace-0c6044ba3477",
   "metadata": {},
   "outputs": [],
   "source": [
    "f.File(\"subdomains.pvd\") << volumes"
   ]
  },
  {
   "cell_type": "markdown",
   "id": "5b79dba1-e5a7-4ea2-9f09-45f1bbda29c3",
   "metadata": {},
   "source": [
    "In the code you are running the notebook from, you should now have a file called \"subdomains.pvd\", as well as a file called \"subdomains000000.vtu\", which belong together. You can open either of these in Paraview, and inspect the output. Through Paraview we can visualize the subdomains and the mesh representation, which for our sample mesh can look like this:"
   ]
  },
  {
   "cell_type": "markdown",
   "id": "f972f444-0d74-4248-bd77-b160ea3fb6cf",
   "metadata": {},
   "source": [
    "![Subdomains and meshes](figures/subdomains_meshes_tile_connected_10p0.png)"
   ]
  },
  {
   "cell_type": "markdown",
   "id": "6f681cf9-4180-450d-bf08-7c030f39a333",
   "metadata": {},
   "source": [
    "We will denote the intracellular subdomain, i.e., the cell, by $\\Omega_i$, and the extracellular subdomain, i.e., the matrix, by $\\Omega_e$."
   ]
  },
  {
   "cell_type": "markdown",
   "id": "52154960-c3a8-4a97-bdd5-b5f156916ab8",
   "metadata": {},
   "source": [
    "## Other mesh files"
   ]
  },
  {
   "cell_type": "markdown",
   "id": "2e1de06c",
   "metadata": {},
   "source": [
    "A number of pre-generated meshes (geometries) are available [here](https://github.com/aashildte/emimechanicalmodel/tree/master/meshes).\n",
    "\n",
    "There are some logical pattern her:\n",
    "* The meshes with an infix \"_connected_\" are connected in the longitudinal direction, as opposed to the meshes without this infix, which are not connected from cell to cell.\n",
    "* The infixes \"10p0\", \"5p0\", etc. indicate the resolution (maximum size of any element in the mesh), generated by the command -clmax in gmsh.\n",
    "* The patterns \"_m_n_k\" indicate how many cells for multicellular domains; in length, width, and height.\n",
    "\n",
    "For the multicellular meshes, each cell have their own unique identity number. For e.g. 4 cells, this will be numbers 1, 2, 3, and 4. These will be read in as <code>volumes</code>, and if you open the corresponding meshes in Paraview each cell will be visualized by a different color."
   ]
  },
  {
   "cell_type": "markdown",
   "id": "b447fffd",
   "metadata": {},
   "source": [
    "## Generating your own meshes."
   ]
  },
  {
   "cell_type": "markdown",
   "id": "e3762e48",
   "metadata": {},
   "source": [
    "The geo files are the fundamental Gmsh files, also available [here](https://github.com/aashildte/emimechanicalmodel/tree/master/meshes), that all the meshes are generated by. You can open these in Gmsh (I used version 4.9.5). From a geo file you can generate the mesh for one cell.\n",
    "\n",
    "The tiling to multicellular domains can next, based on the corresponding <code>.msh</code> files, be performed using the software [tieler](https://github.com/MiroK/tieler). (TODO we might need to add/add some files here ...) "
   ]
  }
 ],
 "metadata": {
  "kernelspec": {
   "display_name": "Python 3 (ipykernel)",
   "language": "python",
   "name": "python3"
  },
  "language_info": {
   "codemirror_mode": {
    "name": "ipython",
    "version": 3
   },
   "file_extension": ".py",
   "mimetype": "text/x-python",
   "name": "python",
   "nbconvert_exporter": "python",
   "pygments_lexer": "ipython3",
   "version": "3.8.12"
  }
 },
 "nbformat": 4,
 "nbformat_minor": 5
}
